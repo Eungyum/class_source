{
 "cells": [
  {
   "cell_type": "markdown",
   "id": "60a148fe",
   "metadata": {},
   "source": [
    "# Numpy : Numerical Python의 줄임말\n",
    "- 벡터 및 행렬 연산에 특화된 라이브러리\n",
    "- array 단위로 데이터를 관리함\n",
    "- 행렬(matrix)과 비슷함\n",
    "- 리스트(list), 튜플(tuple), 사전(dictionary)에서 변환 가능\n",
    "- pandas와 함께 데이터분석에 주로 사용됨"
   ]
  },
  {
   "cell_type": "markdown",
   "id": "1a10a263",
   "metadata": {},
   "source": [
    "# 실습예제"
   ]
  },
  {
   "cell_type": "markdown",
   "id": "2085b3ea",
   "metadata": {},
   "source": [
    "## numpy 모듈 불러오기"
   ]
  },
  {
   "cell_type": "code",
   "execution_count": 1,
   "id": "c54e51e6",
   "metadata": {
    "ExecuteTime": {
     "end_time": "2023-09-25T02:02:33.639189Z",
     "start_time": "2023-09-25T02:02:33.634219Z"
    }
   },
   "outputs": [],
   "source": [
    "import numpy as np"
   ]
  },
  {
   "cell_type": "markdown",
   "id": "7755acdd",
   "metadata": {},
   "source": [
    "## Array 정의 및 사용하기\n",
    "- 넘파이 배열이라는 표현으로 주로 사용한다.\n",
    "- 자료구조 : ndarray 객체(Ndarray)"
   ]
  },
  {
   "cell_type": "code",
   "execution_count": 2,
   "id": "956820d7",
   "metadata": {
    "ExecuteTime": {
     "end_time": "2023-09-25T02:11:21.151006Z",
     "start_time": "2023-09-25T02:11:21.147054Z"
    }
   },
   "outputs": [
    {
     "name": "stdout",
     "output_type": "stream",
     "text": [
      "[1 2 3 4 5]\n",
      "<class 'list'>\n",
      "<class 'numpy.ndarray'>\n"
     ]
    }
   ],
   "source": [
    "# 리스트\n",
    "data1 = [1, 2, 3, 4, 5]\n",
    "# 리스트를 1차원 넘파이 배열로 변환\n",
    "arr1 = np.array(data1)\n",
    "print(arr1)\n",
    "# type 객체의 자료형을 확인하는 함수\n",
    "print(type(data1))\n",
    "print(type(arr1))"
   ]
  },
  {
   "cell_type": "code",
   "execution_count": 3,
   "id": "93372d6b",
   "metadata": {
    "ExecuteTime": {
     "end_time": "2023-09-25T02:11:49.820729Z",
     "start_time": "2023-09-25T02:11:49.803730Z"
    }
   },
   "outputs": [
    {
     "data": {
      "text/plain": [
       "(5,)"
      ]
     },
     "execution_count": 3,
     "metadata": {},
     "output_type": "execute_result"
    }
   ],
   "source": [
    "# 넘파이 배열의 형태(차원)\n",
    "arr1.shape"
   ]
  },
  {
   "cell_type": "code",
   "execution_count": 5,
   "id": "e38efe0f",
   "metadata": {
    "ExecuteTime": {
     "end_time": "2023-09-25T02:13:36.628490Z",
     "start_time": "2023-09-25T02:13:36.612867Z"
    }
   },
   "outputs": [
    {
     "name": "stdout",
     "output_type": "stream",
     "text": [
      "[[1, 2, 3], [4, 5, 6]]\n",
      "[[1 2 3]\n",
      " [4 5 6]]\n",
      "(2, 3)\n"
     ]
    }
   ],
   "source": [
    "# 2차원 리스트\n",
    "data2 = [[1, 2, 3],[4, 5, 6]]\n",
    "# 리스트를 넘파이 2차원 배열로 생성\n",
    "arr2 = np.array(data2)\n",
    "print(data2)\n",
    "print(arr2)\n",
    "print(arr2.shape)"
   ]
  },
  {
   "cell_type": "code",
   "execution_count": 6,
   "id": "90805e0a",
   "metadata": {
    "ExecuteTime": {
     "end_time": "2023-09-25T02:16:28.985143Z",
     "start_time": "2023-09-25T02:16:28.979175Z"
    }
   },
   "outputs": [
    {
     "name": "stdout",
     "output_type": "stream",
     "text": [
      "[[ 8 10 12]\n",
      " [14 16 18]]\n",
      "[[-6 -6 -6]\n",
      " [-6 -6 -6]]\n",
      "[[ 7 16 27]\n",
      " [40 55 72]]\n",
      "[[0.14285714 0.25       0.33333333]\n",
      " [0.4        0.45454545 0.5       ]]\n"
     ]
    }
   ],
   "source": [
    "arr1 = np.array([[1, 2, 3], [4, 5, 6]])\n",
    "arr2 = np.array([[7, 8, 9],[10, 11, 12]])\n",
    "# 벡터화연산 : 배열의 구성요소의 같은 위치끼리 연산을 수행\n",
    "print(arr1 + arr2)\n",
    "print(arr1 - arr2)\n",
    "print(arr1 * arr2)\n",
    "print(arr1 / arr2)"
   ]
  },
  {
   "cell_type": "code",
   "execution_count": 7,
   "id": "89e76033",
   "metadata": {
    "ExecuteTime": {
     "end_time": "2023-09-25T02:17:16.577769Z",
     "start_time": "2023-09-25T02:17:16.566802Z"
    }
   },
   "outputs": [
    {
     "data": {
      "text/plain": [
       "array([[ 1,  4,  9],\n",
       "       [16, 25, 36]])"
      ]
     },
     "execution_count": 7,
     "metadata": {},
     "output_type": "execute_result"
    }
   ],
   "source": [
    "arr1 ** 2"
   ]
  },
  {
   "cell_type": "code",
   "execution_count": 8,
   "id": "146f7bf7",
   "metadata": {
    "ExecuteTime": {
     "end_time": "2023-09-25T02:17:32.823250Z",
     "start_time": "2023-09-25T02:17:32.809303Z"
    }
   },
   "outputs": [
    {
     "data": {
      "text/plain": [
       "array([[1, 2, 3],\n",
       "       [4, 5, 6]])"
      ]
     },
     "execution_count": 8,
     "metadata": {},
     "output_type": "execute_result"
    }
   ],
   "source": [
    "arr1"
   ]
  },
  {
   "cell_type": "code",
   "execution_count": 9,
   "id": "dcc7652a",
   "metadata": {
    "ExecuteTime": {
     "end_time": "2023-09-25T02:17:57.782520Z",
     "start_time": "2023-09-25T02:17:57.771548Z"
    }
   },
   "outputs": [
    {
     "data": {
      "text/plain": [
       "dtype('int32')"
      ]
     },
     "execution_count": 9,
     "metadata": {},
     "output_type": "execute_result"
    }
   ],
   "source": [
    "arr1.dtype"
   ]
  },
  {
   "cell_type": "markdown",
   "id": "636e8764",
   "metadata": {},
   "source": [
    "**numpy 자료형**\n",
    "- 부호가 있는 정수 int(8, 16, 32, 64)\n",
    "- 부호가 없는 정수 uint(8, 16, 32, 64)\n",
    "- 실수 float(16, 32, 64, 128)\n",
    "- 복소수 complex(64, 128, 256)\n",
    "- 블리언 bool(True, False)\n",
    "- 문자열 string\n",
    "- 파이썬 오브젝트(객체) object\n",
    "- 유니코드 unicode_"
   ]
  },
  {
   "cell_type": "code",
   "execution_count": 10,
   "id": "545437f0",
   "metadata": {
    "ExecuteTime": {
     "end_time": "2023-09-25T02:23:34.128295Z",
     "start_time": "2023-09-25T02:23:34.113282Z"
    }
   },
   "outputs": [
    {
     "name": "stdout",
     "output_type": "stream",
     "text": [
      "<class 'numpy.ndarray'>\n",
      "['홍길동' '장보고' '이순신' '김유신' '유관순']\n",
      "홍길동\n",
      "['hon' '장보고' '이순신' '김유신' '유관순']\n",
      "['kim' 'kim' 'kim' '김유신' '유관순']\n"
     ]
    }
   ],
   "source": [
    "names = np.array(['홍길동','장보고','이순신','김유신','유관순'])\n",
    "print(type(names))\n",
    "print(names)\n",
    "print(names[0])\n",
    "names[0] = 'hong'\n",
    "print(names)\n",
    "names[0:3] = 'kim'\n",
    "print(names)"
   ]
  },
  {
   "cell_type": "markdown",
   "id": "55e9ae7c",
   "metadata": {},
   "source": [
    "**numpy 단순 배열 생성**\n",
    "- zeros, ones\n",
    "- zeros_like, ones_like\n",
    "- empty\n",
    "- arange : python의 range()와 동일\n",
    "- linspace, logspace"
   ]
  },
  {
   "cell_type": "code",
   "execution_count": 12,
   "id": "38a65216",
   "metadata": {
    "ExecuteTime": {
     "end_time": "2023-09-25T02:26:27.061640Z",
     "start_time": "2023-09-25T02:26:27.049670Z"
    }
   },
   "outputs": [
    {
     "data": {
      "text/plain": [
       "array([0., 0., 0., 0., 0., 0., 0., 0., 0., 0.])"
      ]
     },
     "execution_count": 12,
     "metadata": {},
     "output_type": "execute_result"
    }
   ],
   "source": [
    "# 크기가 정해져 있고, 모든 요소의 값이 0인 배열을 생성 zeros\n",
    "np.zeros(10)"
   ]
  },
  {
   "cell_type": "code",
   "execution_count": 13,
   "id": "4754b37d",
   "metadata": {
    "ExecuteTime": {
     "end_time": "2023-09-25T02:27:04.373827Z",
     "start_time": "2023-09-25T02:27:04.362824Z"
    }
   },
   "outputs": [
    {
     "data": {
      "text/plain": [
       "array([[0., 0., 0., 0., 0.],\n",
       "       [0., 0., 0., 0., 0.],\n",
       "       [0., 0., 0., 0., 0.]])"
      ]
     },
     "execution_count": 13,
     "metadata": {},
     "output_type": "execute_result"
    }
   ],
   "source": [
    "np.zeros((3, 5))"
   ]
  },
  {
   "cell_type": "code",
   "execution_count": 14,
   "id": "c10156b5",
   "metadata": {
    "ExecuteTime": {
     "end_time": "2023-09-25T02:27:48.076549Z",
     "start_time": "2023-09-25T02:27:48.070562Z"
    }
   },
   "outputs": [
    {
     "data": {
      "text/plain": [
       "array([1., 1., 1., 1., 1., 1., 1., 1., 1.])"
      ]
     },
     "execution_count": 14,
     "metadata": {},
     "output_type": "execute_result"
    }
   ],
   "source": [
    "# np.ones() 함수는 매개변수로 배열의 크기, 모든 요소의 값이 1인 배열이 생성\n",
    "np.ones(9)"
   ]
  },
  {
   "cell_type": "code",
   "execution_count": 16,
   "id": "a0417d95",
   "metadata": {
    "ExecuteTime": {
     "end_time": "2023-09-25T02:28:17.858042Z",
     "start_time": "2023-09-25T02:28:17.842990Z"
    }
   },
   "outputs": [
    {
     "data": {
      "text/plain": [
       "array([[1., 1., 1., 1., 1., 1., 1., 1., 1., 1.],\n",
       "       [1., 1., 1., 1., 1., 1., 1., 1., 1., 1.]])"
      ]
     },
     "execution_count": 16,
     "metadata": {},
     "output_type": "execute_result"
    }
   ],
   "source": [
    "np.ones((2, 10))"
   ]
  },
  {
   "cell_type": "code",
   "execution_count": 17,
   "id": "9039a7fa",
   "metadata": {
    "ExecuteTime": {
     "end_time": "2023-09-25T02:30:02.914839Z",
     "start_time": "2023-09-25T02:30:02.904838Z"
    }
   },
   "outputs": [
    {
     "data": {
      "text/plain": [
       "array([0, 1, 2, 3, 4, 5, 6, 7, 8, 9])"
      ]
     },
     "execution_count": 17,
     "metadata": {},
     "output_type": "execute_result"
    }
   ],
   "source": [
    "# np.arange() 순열\n",
    "np.arange(10)"
   ]
  },
  {
   "cell_type": "code",
   "execution_count": 18,
   "id": "3ff65ee6",
   "metadata": {
    "ExecuteTime": {
     "end_time": "2023-09-25T02:30:28.348710Z",
     "start_time": "2023-09-25T02:30:28.341672Z"
    }
   },
   "outputs": [
    {
     "data": {
      "text/plain": [
       "array([3, 4, 5, 6, 7, 8, 9])"
      ]
     },
     "execution_count": 18,
     "metadata": {},
     "output_type": "execute_result"
    }
   ],
   "source": [
    "np.arange(3, 10)"
   ]
  },
  {
   "cell_type": "markdown",
   "id": "501eb6b1",
   "metadata": {},
   "source": [
    "**Array연산**\n",
    "- 벡터화 연산 : 배열을 구성하는 각 요소들의 같은 위치 끼리 개별연산을 수행하는 기능\n",
    "- 브로드캐스팅 : 배열의 크기가 서로 다른 배열연산시 작은 크기의 배열이 큰 크기의 배열의 수에 맞춰서 계산을 수행하는 기능"
   ]
  },
  {
   "cell_type": "code",
   "execution_count": 19,
   "id": "e1a9cfb9",
   "metadata": {
    "ExecuteTime": {
     "end_time": "2023-09-25T02:35:21.032253Z",
     "start_time": "2023-09-25T02:35:21.017310Z"
    }
   },
   "outputs": [
    {
     "data": {
      "text/plain": [
       "array([[1, 2, 3],\n",
       "       [4, 5, 6]])"
      ]
     },
     "execution_count": 19,
     "metadata": {},
     "output_type": "execute_result"
    }
   ],
   "source": [
    "arr1 = np.array([[1, 2, 3],[4, 5, 6]])\n",
    "arr1"
   ]
  },
  {
   "cell_type": "code",
   "execution_count": 20,
   "id": "56398e99",
   "metadata": {
    "ExecuteTime": {
     "end_time": "2023-09-25T02:35:32.299458Z",
     "start_time": "2023-09-25T02:35:32.284457Z"
    }
   },
   "outputs": [
    {
     "data": {
      "text/plain": [
       "(2, 3)"
      ]
     },
     "execution_count": 20,
     "metadata": {},
     "output_type": "execute_result"
    }
   ],
   "source": [
    "arr1.shape"
   ]
  },
  {
   "cell_type": "code",
   "execution_count": 21,
   "id": "47892282",
   "metadata": {
    "ExecuteTime": {
     "end_time": "2023-09-25T02:36:07.838186Z",
     "start_time": "2023-09-25T02:36:07.822222Z"
    }
   },
   "outputs": [
    {
     "data": {
      "text/plain": [
       "array([[10, 11, 12],\n",
       "       [13, 14, 15]])"
      ]
     },
     "execution_count": 21,
     "metadata": {},
     "output_type": "execute_result"
    }
   ],
   "source": [
    "arr2 = np.array([[10, 11, 12], [13, 14, 15]])\n",
    "arr2"
   ]
  },
  {
   "cell_type": "code",
   "execution_count": 22,
   "id": "6bb9e0e7",
   "metadata": {
    "ExecuteTime": {
     "end_time": "2023-09-25T02:36:12.676726Z",
     "start_time": "2023-09-25T02:36:12.665728Z"
    }
   },
   "outputs": [
    {
     "data": {
      "text/plain": [
       "(2, 3)"
      ]
     },
     "execution_count": 22,
     "metadata": {},
     "output_type": "execute_result"
    }
   ],
   "source": [
    "arr2.shape"
   ]
  },
  {
   "cell_type": "code",
   "execution_count": 23,
   "id": "7773c67b",
   "metadata": {
    "ExecuteTime": {
     "end_time": "2023-09-25T02:36:36.595719Z",
     "start_time": "2023-09-25T02:36:36.578714Z"
    }
   },
   "outputs": [
    {
     "data": {
      "text/plain": [
       "array([[11, 13, 15],\n",
       "       [17, 19, 21]])"
      ]
     },
     "execution_count": 23,
     "metadata": {},
     "output_type": "execute_result"
    }
   ],
   "source": [
    "# array 덧셈\n",
    "arr1 + arr2"
   ]
  },
  {
   "cell_type": "code",
   "execution_count": 24,
   "id": "6e1e3b5f",
   "metadata": {
    "ExecuteTime": {
     "end_time": "2023-09-25T02:36:47.636029Z",
     "start_time": "2023-09-25T02:36:47.624986Z"
    }
   },
   "outputs": [
    {
     "data": {
      "text/plain": [
       "array([[-9, -9, -9],\n",
       "       [-9, -9, -9]])"
      ]
     },
     "execution_count": 24,
     "metadata": {},
     "output_type": "execute_result"
    }
   ],
   "source": [
    "arr1 - arr2"
   ]
  },
  {
   "cell_type": "code",
   "execution_count": 25,
   "id": "94abf003",
   "metadata": {
    "ExecuteTime": {
     "end_time": "2023-09-25T02:37:26.109845Z",
     "start_time": "2023-09-25T02:37:26.091746Z"
    }
   },
   "outputs": [
    {
     "data": {
      "text/plain": [
       "array([[10, 22, 36],\n",
       "       [52, 70, 90]])"
      ]
     },
     "execution_count": 25,
     "metadata": {},
     "output_type": "execute_result"
    }
   ],
   "source": [
    "arr1 * arr2"
   ]
  },
  {
   "cell_type": "code",
   "execution_count": 30,
   "id": "69140f2b",
   "metadata": {
    "ExecuteTime": {
     "end_time": "2023-09-25T02:41:16.257389Z",
     "start_time": "2023-09-25T02:41:16.238389Z"
    }
   },
   "outputs": [
    {
     "data": {
      "text/plain": [
       "array([[ 3,  6],\n",
       "       [ 7, 14]])"
      ]
     },
     "execution_count": 30,
     "metadata": {},
     "output_type": "execute_result"
    }
   ],
   "source": [
    "# 행렬곱 : a x b와 c x d, b=c\n",
    "a1 = np.array([[1, 2],[3, 4]])\n",
    "a2 = np.array([[1, 2],[1, 2]])\n",
    "np.dot(a1, a2)"
   ]
  },
  {
   "cell_type": "code",
   "execution_count": 31,
   "id": "7673fcb3",
   "metadata": {
    "ExecuteTime": {
     "end_time": "2023-09-25T02:41:49.261551Z",
     "start_time": "2023-09-25T02:41:49.248585Z"
    }
   },
   "outputs": [
    {
     "data": {
      "text/plain": [
       "array([[0.1       , 0.18181818, 0.25      ],\n",
       "       [0.30769231, 0.35714286, 0.4       ]])"
      ]
     },
     "execution_count": 31,
     "metadata": {},
     "output_type": "execute_result"
    }
   ],
   "source": [
    "arr1 / arr2"
   ]
  },
  {
   "cell_type": "code",
   "execution_count": 33,
   "id": "3331d847",
   "metadata": {
    "ExecuteTime": {
     "end_time": "2023-09-25T02:42:15.364795Z",
     "start_time": "2023-09-25T02:42:15.354796Z"
    }
   },
   "outputs": [
    {
     "data": {
      "text/plain": [
       "(2, 3)"
      ]
     },
     "execution_count": 33,
     "metadata": {},
     "output_type": "execute_result"
    }
   ],
   "source": [
    "arr1.shape"
   ]
  },
  {
   "cell_type": "code",
   "execution_count": 34,
   "id": "10065c9b",
   "metadata": {
    "ExecuteTime": {
     "end_time": "2023-09-25T02:42:32.896309Z",
     "start_time": "2023-09-25T02:42:32.890308Z"
    }
   },
   "outputs": [
    {
     "data": {
      "text/plain": [
       "array([10, 11, 12])"
      ]
     },
     "execution_count": 34,
     "metadata": {},
     "output_type": "execute_result"
    }
   ],
   "source": [
    "arr3 = np.array([10, 11, 12])\n",
    "arr3"
   ]
  },
  {
   "cell_type": "code",
   "execution_count": 35,
   "id": "0d4e9004",
   "metadata": {
    "ExecuteTime": {
     "end_time": "2023-09-25T02:42:42.486617Z",
     "start_time": "2023-09-25T02:42:42.469577Z"
    }
   },
   "outputs": [
    {
     "data": {
      "text/plain": [
       "(3,)"
      ]
     },
     "execution_count": 35,
     "metadata": {},
     "output_type": "execute_result"
    }
   ],
   "source": [
    "arr3.shape"
   ]
  },
  {
   "cell_type": "code",
   "execution_count": 36,
   "id": "93eb83e0",
   "metadata": {
    "ExecuteTime": {
     "end_time": "2023-09-25T02:43:20.767387Z",
     "start_time": "2023-09-25T02:43:20.753387Z"
    }
   },
   "outputs": [
    {
     "data": {
      "text/plain": [
       "array([[11, 13, 15],\n",
       "       [14, 16, 18]])"
      ]
     },
     "execution_count": 36,
     "metadata": {},
     "output_type": "execute_result"
    }
   ],
   "source": [
    "arr1 + arr3"
   ]
  },
  {
   "cell_type": "code",
   "execution_count": 37,
   "id": "6e971ea7",
   "metadata": {
    "ExecuteTime": {
     "end_time": "2023-09-25T02:43:49.115113Z",
     "start_time": "2023-09-25T02:43:49.109144Z"
    }
   },
   "outputs": [
    {
     "data": {
      "text/plain": [
       "array([[10, 20, 30],\n",
       "       [40, 50, 60]])"
      ]
     },
     "execution_count": 37,
     "metadata": {},
     "output_type": "execute_result"
    }
   ],
   "source": [
    "arr1 * 10"
   ]
  },
  {
   "cell_type": "code",
   "execution_count": 38,
   "id": "3dc22d68",
   "metadata": {
    "ExecuteTime": {
     "end_time": "2023-09-25T02:43:58.745846Z",
     "start_time": "2023-09-25T02:43:58.726815Z"
    }
   },
   "outputs": [
    {
     "data": {
      "text/plain": [
       "array([[ 1,  4,  9],\n",
       "       [16, 25, 36]])"
      ]
     },
     "execution_count": 38,
     "metadata": {},
     "output_type": "execute_result"
    }
   ],
   "source": [
    "arr1 ** 2"
   ]
  },
  {
   "cell_type": "markdown",
   "id": "26cfbd3f",
   "metadata": {},
   "source": [
    "**Array 인덱싱**"
   ]
  },
  {
   "cell_type": "code",
   "execution_count": 39,
   "id": "bef386a1",
   "metadata": {
    "ExecuteTime": {
     "end_time": "2023-09-25T02:45:04.810260Z",
     "start_time": "2023-09-25T02:45:04.803285Z"
    }
   },
   "outputs": [
    {
     "data": {
      "text/plain": [
       "array([0, 1, 2, 3, 4, 5, 6, 7, 8, 9])"
      ]
     },
     "execution_count": 39,
     "metadata": {},
     "output_type": "execute_result"
    }
   ],
   "source": [
    "arr1 = np.arange(10)\n",
    "arr1"
   ]
  },
  {
   "cell_type": "code",
   "execution_count": 40,
   "id": "08561148",
   "metadata": {
    "ExecuteTime": {
     "end_time": "2023-09-25T02:45:55.930123Z",
     "start_time": "2023-09-25T02:45:55.915123Z"
    }
   },
   "outputs": [
    {
     "name": "stdout",
     "output_type": "stream",
     "text": [
      "0\n",
      "3\n"
     ]
    }
   ],
   "source": [
    "# 0번째 요소\n",
    "print(arr1[0])\n",
    "# 3번째 요소\n",
    "print(arr1[3])"
   ]
  },
  {
   "cell_type": "code",
   "execution_count": 41,
   "id": "9ce3e279",
   "metadata": {
    "ExecuteTime": {
     "end_time": "2023-09-25T02:46:56.930662Z",
     "start_time": "2023-09-25T02:46:56.913689Z"
    }
   },
   "outputs": [
    {
     "name": "stdout",
     "output_type": "stream",
     "text": [
      "[3 4 5 6 7 8]\n",
      "[0 1 2 3 4 5 6 7 8 9]\n"
     ]
    }
   ],
   "source": [
    "# 3번째 요소부터 8번째 요소까지 출력\n",
    "print(arr1[3:9])\n",
    "# 전체\n",
    "print(arr1[:])"
   ]
  },
  {
   "cell_type": "code",
   "execution_count": 42,
   "id": "9961d5e4",
   "metadata": {
    "ExecuteTime": {
     "end_time": "2023-09-25T02:47:44.985666Z",
     "start_time": "2023-09-25T02:47:44.968564Z"
    }
   },
   "outputs": [
    {
     "data": {
      "text/plain": [
       "array([[ 1,  2,  3,  4],\n",
       "       [ 5,  6,  7,  8],\n",
       "       [ 9, 10, 11, 12]])"
      ]
     },
     "execution_count": 42,
     "metadata": {},
     "output_type": "execute_result"
    }
   ],
   "source": [
    "arr2 = np.array([[1, 2, 3, 4],[5, 6, 7, 8],[9, 10, 11, 12]])\n",
    "arr2"
   ]
  },
  {
   "cell_type": "code",
   "execution_count": 43,
   "id": "70286af1",
   "metadata": {
    "ExecuteTime": {
     "end_time": "2023-09-25T02:48:43.519983Z",
     "start_time": "2023-09-25T02:48:43.501987Z"
    }
   },
   "outputs": [
    {
     "data": {
      "text/plain": [
       "1"
      ]
     },
     "execution_count": 43,
     "metadata": {},
     "output_type": "execute_result"
    }
   ],
   "source": [
    "# 배열명[행, 열], 배열명[행][열]\n",
    "arr2[0, 0]"
   ]
  },
  {
   "cell_type": "code",
   "execution_count": 44,
   "id": "7090d67b",
   "metadata": {
    "ExecuteTime": {
     "end_time": "2023-09-25T02:49:15.086586Z",
     "start_time": "2023-09-25T02:49:15.080588Z"
    }
   },
   "outputs": [
    {
     "data": {
      "text/plain": [
       "array([ 9, 10, 11, 12])"
      ]
     },
     "execution_count": 44,
     "metadata": {},
     "output_type": "execute_result"
    }
   ],
   "source": [
    "# 2행의 모든 요소 추출\n",
    "arr2[2, :]"
   ]
  },
  {
   "cell_type": "code",
   "execution_count": 45,
   "id": "ffc766b3",
   "metadata": {
    "ExecuteTime": {
     "end_time": "2023-09-25T02:49:41.855879Z",
     "start_time": "2023-09-25T02:49:41.841879Z"
    }
   },
   "outputs": [
    {
     "data": {
      "text/plain": [
       "12"
      ]
     },
     "execution_count": 45,
     "metadata": {},
     "output_type": "execute_result"
    }
   ],
   "source": [
    "# 2행의 3번째 요소\n",
    "arr2[2, 3]"
   ]
  },
  {
   "cell_type": "code",
   "execution_count": 46,
   "id": "c51a98fb",
   "metadata": {
    "ExecuteTime": {
     "end_time": "2023-09-25T02:50:18.228811Z",
     "start_time": "2023-09-25T02:50:18.210747Z"
    }
   },
   "outputs": [
    {
     "data": {
      "text/plain": [
       "array([ 4,  8, 12])"
      ]
     },
     "execution_count": 46,
     "metadata": {},
     "output_type": "execute_result"
    }
   ],
   "source": [
    "# 모든 행의 3번째 열의 요소 추출\n",
    "arr2[:,3]"
   ]
  },
  {
   "cell_type": "markdown",
   "id": "84edbc8c",
   "metadata": {},
   "source": [
    "**Array의 Boolean Indexing(Mask bit)**"
   ]
  },
  {
   "cell_type": "code",
   "execution_count": 47,
   "id": "8a812423",
   "metadata": {
    "ExecuteTime": {
     "end_time": "2023-09-25T02:52:59.245968Z",
     "start_time": "2023-09-25T02:52:59.231003Z"
    }
   },
   "outputs": [
    {
     "data": {
      "text/plain": [
       "array(['Beomwoo', 'Beomwoo', 'Kim', 'Joan', 'Lee', 'Beomwoo', 'Park',\n",
       "       'Beomwoo'], dtype='<U7')"
      ]
     },
     "execution_count": 47,
     "metadata": {},
     "output_type": "execute_result"
    }
   ],
   "source": [
    "names = np.array(['Beomwoo', 'Beomwoo', 'Kim', 'Joan', 'Lee', 'Beomwoo', 'Park', 'Beomwoo'])\n",
    "names"
   ]
  },
  {
   "cell_type": "code",
   "execution_count": 48,
   "id": "b29a2e02",
   "metadata": {
    "ExecuteTime": {
     "end_time": "2023-09-25T02:53:09.812418Z",
     "start_time": "2023-09-25T02:53:09.805457Z"
    }
   },
   "outputs": [
    {
     "data": {
      "text/plain": [
       "(8,)"
      ]
     },
     "execution_count": 48,
     "metadata": {},
     "output_type": "execute_result"
    }
   ],
   "source": [
    "names.shape"
   ]
  },
  {
   "cell_type": "code",
   "execution_count": 49,
   "id": "9a4d6336",
   "metadata": {
    "ExecuteTime": {
     "end_time": "2023-09-25T02:54:51.254410Z",
     "start_time": "2023-09-25T02:54:51.244441Z"
    }
   },
   "outputs": [
    {
     "data": {
      "text/plain": [
       "array([[ 1.14653264,  0.49777602,  1.33458539,  1.79664717],\n",
       "       [ 1.76157096,  0.46055505, -0.81984238, -0.02635202],\n",
       "       [ 0.15811153,  1.05081091,  0.63363435, -0.46618323],\n",
       "       [ 1.75377994, -1.7901247 ,  0.90881995, -0.7728684 ],\n",
       "       [ 0.13096287, -1.07497435,  0.43420361,  1.15057375],\n",
       "       [ 0.65044822, -0.71964991,  1.08078141, -0.06131196],\n",
       "       [-1.91922103, -0.61296074, -0.06431213,  0.19160446],\n",
       "       [ 0.06397516, -0.17279227,  1.43867951,  0.0871095 ]])"
      ]
     },
     "execution_count": 49,
     "metadata": {},
     "output_type": "execute_result"
    }
   ],
   "source": [
    "# 정규분포 난수 : 평균 0, 표준편차 1인 \n",
    "data = np.random.randn(8, 4)\n",
    "data"
   ]
  },
  {
   "cell_type": "code",
   "execution_count": 51,
   "id": "d27c6e0f",
   "metadata": {
    "ExecuteTime": {
     "end_time": "2023-09-25T02:58:10.867115Z",
     "start_time": "2023-09-25T02:58:10.855132Z"
    }
   },
   "outputs": [
    {
     "data": {
      "text/plain": [
       "array([ True,  True, False, False, False,  True, False,  True])"
      ]
     },
     "execution_count": 51,
     "metadata": {},
     "output_type": "execute_result"
    }
   ],
   "source": [
    "# 벡터화 연산\n",
    "mask = names == 'Beomwoo'\n",
    "mask"
   ]
  },
  {
   "cell_type": "code",
   "execution_count": 52,
   "id": "8cdbd4f3",
   "metadata": {
    "ExecuteTime": {
     "end_time": "2023-09-25T02:59:18.697695Z",
     "start_time": "2023-09-25T02:59:18.685700Z"
    }
   },
   "outputs": [
    {
     "data": {
      "text/plain": [
       "array([[ 1.14653264,  0.49777602,  1.33458539,  1.79664717],\n",
       "       [ 1.76157096,  0.46055505, -0.81984238, -0.02635202],\n",
       "       [ 0.65044822, -0.71964991,  1.08078141, -0.06131196],\n",
       "       [ 0.06397516, -0.17279227,  1.43867951,  0.0871095 ]])"
      ]
     },
     "execution_count": 52,
     "metadata": {},
     "output_type": "execute_result"
    }
   ],
   "source": [
    "data[mask,:]"
   ]
  },
  {
   "cell_type": "code",
   "execution_count": 53,
   "id": "4449c187",
   "metadata": {
    "ExecuteTime": {
     "end_time": "2023-09-25T03:00:00.675540Z",
     "start_time": "2023-09-25T03:00:00.666631Z"
    }
   },
   "outputs": [
    {
     "data": {
      "text/plain": [
       "array([[ 1.14653264,  0.49777602,  1.33458539,  1.79664717],\n",
       "       [ 1.76157096,  0.46055505, -0.81984238, -0.02635202],\n",
       "       [ 0.65044822, -0.71964991,  1.08078141, -0.06131196],\n",
       "       [ 0.06397516, -0.17279227,  1.43867951,  0.0871095 ]])"
      ]
     },
     "execution_count": 53,
     "metadata": {},
     "output_type": "execute_result"
    }
   ],
   "source": [
    "data[names == 'Beomwoo',:]"
   ]
  },
  {
   "cell_type": "code",
   "execution_count": 54,
   "id": "589651b5",
   "metadata": {
    "ExecuteTime": {
     "end_time": "2023-09-25T03:02:19.485184Z",
     "start_time": "2023-09-25T03:02:19.470211Z"
    }
   },
   "outputs": [
    {
     "data": {
      "text/plain": [
       "array([ True,  True,  True,  True,  True,  True, False,  True])"
      ]
     },
     "execution_count": 54,
     "metadata": {},
     "output_type": "execute_result"
    }
   ],
   "source": [
    "# |(or) &(and)\n",
    "data[:, 0] > 0"
   ]
  },
  {
   "cell_type": "code",
   "execution_count": 55,
   "id": "bc1eafb6",
   "metadata": {
    "ExecuteTime": {
     "end_time": "2023-09-25T03:02:39.995339Z",
     "start_time": "2023-09-25T03:02:39.987371Z"
    }
   },
   "outputs": [
    {
     "data": {
      "text/plain": [
       "array([[ 1.14653264,  0.49777602,  1.33458539,  1.79664717],\n",
       "       [ 1.76157096,  0.46055505, -0.81984238, -0.02635202],\n",
       "       [ 0.15811153,  1.05081091,  0.63363435, -0.46618323],\n",
       "       [ 1.75377994, -1.7901247 ,  0.90881995, -0.7728684 ],\n",
       "       [ 0.13096287, -1.07497435,  0.43420361,  1.15057375],\n",
       "       [ 0.65044822, -0.71964991,  1.08078141, -0.06131196],\n",
       "       [ 0.06397516, -0.17279227,  1.43867951,  0.0871095 ]])"
      ]
     },
     "execution_count": 55,
     "metadata": {},
     "output_type": "execute_result"
    }
   ],
   "source": [
    "data[data[:, 0] > 0,:]"
   ]
  },
  {
   "cell_type": "code",
   "execution_count": 56,
   "id": "23bcfe6b",
   "metadata": {
    "ExecuteTime": {
     "end_time": "2023-09-25T03:06:06.285260Z",
     "start_time": "2023-09-25T03:06:06.275313Z"
    }
   },
   "outputs": [
    {
     "data": {
      "text/plain": [
       "array([[-0.06431213,  0.19160446]])"
      ]
     },
     "execution_count": 56,
     "metadata": {},
     "output_type": "execute_result"
    }
   ],
   "source": [
    "# 0번째 열의 값이 0보다 작은 행의 2, 3번째 열 값을 추출\n",
    "data[data[:, 0] < 0,2:4]"
   ]
  },
  {
   "cell_type": "code",
   "execution_count": 57,
   "id": "15f5bbc4",
   "metadata": {
    "ExecuteTime": {
     "end_time": "2023-09-25T03:06:22.513876Z",
     "start_time": "2023-09-25T03:06:22.496900Z"
    }
   },
   "outputs": [
    {
     "data": {
      "text/plain": [
       "array([[ 1.14653264,  0.49777602,  1.33458539,  1.79664717],\n",
       "       [ 1.76157096,  0.46055505, -0.81984238, -0.02635202],\n",
       "       [ 0.15811153,  1.05081091,  0.63363435, -0.46618323],\n",
       "       [ 1.75377994, -1.7901247 ,  0.90881995, -0.7728684 ],\n",
       "       [ 0.13096287, -1.07497435,  0.43420361,  1.15057375],\n",
       "       [ 0.65044822, -0.71964991,  1.08078141, -0.06131196],\n",
       "       [-1.91922103, -0.61296074,  0.        ,  0.        ],\n",
       "       [ 0.06397516, -0.17279227,  1.43867951,  0.0871095 ]])"
      ]
     },
     "execution_count": 57,
     "metadata": {},
     "output_type": "execute_result"
    }
   ],
   "source": [
    "# 0번째 열의 값이 0보다 작은 행의 2, 3번째 열 값을 0으로 치환\n",
    "data[data[:, 0] < 0,2:4] = 0\n",
    "data"
   ]
  },
  {
   "cell_type": "code",
   "execution_count": 58,
   "id": "7f91f403",
   "metadata": {
    "ExecuteTime": {
     "end_time": "2023-09-25T03:15:22.701026Z",
     "start_time": "2023-09-25T03:15:22.695026Z"
    }
   },
   "outputs": [
    {
     "data": {
      "text/plain": [
       "32"
      ]
     },
     "execution_count": 58,
     "metadata": {},
     "output_type": "execute_result"
    }
   ],
   "source": [
    "# 요소의 갯수 추출하는 속성 : size\n",
    "data.size"
   ]
  },
  {
   "cell_type": "code",
   "execution_count": 59,
   "id": "317b0312",
   "metadata": {
    "ExecuteTime": {
     "end_time": "2023-09-25T03:18:48.566406Z",
     "start_time": "2023-09-25T03:18:48.557437Z"
    }
   },
   "outputs": [
    {
     "data": {
      "text/plain": [
       "array([0, 1, 2, 3, 4, 5, 6, 7, 8, 9])"
      ]
     },
     "execution_count": 59,
     "metadata": {},
     "output_type": "execute_result"
    }
   ],
   "source": [
    "# 배열의 형태 변환 : reshape()\n",
    "arr1 = np.arange(10)\n",
    "arr1"
   ]
  },
  {
   "cell_type": "code",
   "execution_count": 60,
   "id": "3d3b7c6a",
   "metadata": {
    "ExecuteTime": {
     "end_time": "2023-09-25T03:19:02.382032Z",
     "start_time": "2023-09-25T03:19:02.375054Z"
    }
   },
   "outputs": [
    {
     "data": {
      "text/plain": [
       "1"
      ]
     },
     "execution_count": 60,
     "metadata": {},
     "output_type": "execute_result"
    }
   ],
   "source": [
    "arr1[1]"
   ]
  },
  {
   "cell_type": "code",
   "execution_count": 61,
   "id": "9df4f40a",
   "metadata": {
    "ExecuteTime": {
     "end_time": "2023-09-25T03:19:50.261160Z",
     "start_time": "2023-09-25T03:19:50.242164Z"
    }
   },
   "outputs": [
    {
     "data": {
      "text/plain": [
       "array([[0, 1, 2],\n",
       "       [3, 4, 5],\n",
       "       [6, 7, 8]])"
      ]
     },
     "execution_count": 61,
     "metadata": {},
     "output_type": "execute_result"
    }
   ],
   "source": [
    "arr2 = np.arange(9).reshape(3, 3)\n",
    "arr2"
   ]
  },
  {
   "cell_type": "code",
   "execution_count": 62,
   "id": "19f0c39e",
   "metadata": {
    "ExecuteTime": {
     "end_time": "2023-09-25T03:20:15.340577Z",
     "start_time": "2023-09-25T03:20:15.334510Z"
    }
   },
   "outputs": [
    {
     "data": {
      "text/plain": [
       "7"
      ]
     },
     "execution_count": 62,
     "metadata": {},
     "output_type": "execute_result"
    }
   ],
   "source": [
    "arr2[2,1]"
   ]
  },
  {
   "cell_type": "code",
   "execution_count": 63,
   "id": "6f7ed088",
   "metadata": {
    "ExecuteTime": {
     "end_time": "2023-09-25T03:21:16.760282Z",
     "start_time": "2023-09-25T03:21:16.743310Z"
    }
   },
   "outputs": [
    {
     "data": {
      "text/plain": [
       "array([[[ 0,  1,  2,  3],\n",
       "        [ 4,  5,  6,  7],\n",
       "        [ 8,  9, 10, 11]],\n",
       "\n",
       "       [[12, 13, 14, 15],\n",
       "        [16, 17, 18, 19],\n",
       "        [20, 21, 22, 23]]])"
      ]
     },
     "execution_count": 63,
     "metadata": {},
     "output_type": "execute_result"
    }
   ],
   "source": [
    "arr3 = np.reshape(np.arange(24), (2, 3, 4))\n",
    "arr3"
   ]
  },
  {
   "cell_type": "code",
   "execution_count": 64,
   "id": "1c34a879",
   "metadata": {
    "ExecuteTime": {
     "end_time": "2023-09-25T03:21:57.576562Z",
     "start_time": "2023-09-25T03:21:57.570488Z"
    }
   },
   "outputs": [
    {
     "data": {
      "text/plain": [
       "18"
      ]
     },
     "execution_count": 64,
     "metadata": {},
     "output_type": "execute_result"
    }
   ],
   "source": [
    "arr3[1,1,2]"
   ]
  },
  {
   "cell_type": "code",
   "execution_count": 65,
   "id": "aa35bc90",
   "metadata": {
    "ExecuteTime": {
     "end_time": "2023-09-25T03:22:28.336928Z",
     "start_time": "2023-09-25T03:22:28.329943Z"
    }
   },
   "outputs": [
    {
     "data": {
      "text/plain": [
       "23"
      ]
     },
     "execution_count": 65,
     "metadata": {},
     "output_type": "execute_result"
    }
   ],
   "source": [
    "arr3[1][2][3]"
   ]
  },
  {
   "cell_type": "markdown",
   "id": "b7dac8e8",
   "metadata": {},
   "source": [
    "**slicing(슬라이싱) : 데이터의 일부분을 추출**\n",
    "- 모든 배열은 항상 원본 배열의 뷰(view)이다.\n",
    "- 뷰(view)는 원본 객체를 인덱싱하여 자른 후 생성된 배열을 뜻한다.\n",
    "- 데이터베이스(Oracle)의 뷰(view)는 원본에서부터 유도된 가상테이블이다."
   ]
  },
  {
   "cell_type": "code",
   "execution_count": 66,
   "id": "dd0adaa5",
   "metadata": {
    "ExecuteTime": {
     "end_time": "2023-09-25T03:25:46.015468Z",
     "start_time": "2023-09-25T03:25:46.002503Z"
    }
   },
   "outputs": [
    {
     "data": {
      "text/plain": [
       "array([0, 1, 2, 3, 4, 5, 6, 7, 8, 9])"
      ]
     },
     "execution_count": 66,
     "metadata": {},
     "output_type": "execute_result"
    }
   ],
   "source": [
    "arr1"
   ]
  },
  {
   "cell_type": "code",
   "execution_count": 67,
   "id": "1ffb14d0",
   "metadata": {
    "ExecuteTime": {
     "end_time": "2023-09-25T03:25:53.158144Z",
     "start_time": "2023-09-25T03:25:53.139076Z"
    }
   },
   "outputs": [
    {
     "data": {
      "text/plain": [
       "1"
      ]
     },
     "execution_count": 67,
     "metadata": {},
     "output_type": "execute_result"
    }
   ],
   "source": [
    "arr1[1]"
   ]
  },
  {
   "cell_type": "code",
   "execution_count": 68,
   "id": "8e57d991",
   "metadata": {
    "ExecuteTime": {
     "end_time": "2023-09-25T03:26:24.259137Z",
     "start_time": "2023-09-25T03:26:24.246099Z"
    }
   },
   "outputs": [
    {
     "data": {
      "text/plain": [
       "array([0, 1, 2, 3, 4, 5])"
      ]
     },
     "execution_count": 68,
     "metadata": {},
     "output_type": "execute_result"
    }
   ],
   "source": [
    "arr1[:6]"
   ]
  },
  {
   "cell_type": "code",
   "execution_count": 69,
   "id": "171c07f4",
   "metadata": {
    "ExecuteTime": {
     "end_time": "2023-09-25T03:26:42.422733Z",
     "start_time": "2023-09-25T03:26:42.409762Z"
    }
   },
   "outputs": [
    {
     "data": {
      "text/plain": [
       "array([0, 1, 2, 3])"
      ]
     },
     "execution_count": 69,
     "metadata": {},
     "output_type": "execute_result"
    }
   ],
   "source": [
    "arr1[0:4]"
   ]
  },
  {
   "cell_type": "code",
   "execution_count": 70,
   "id": "f8a148c5",
   "metadata": {
    "ExecuteTime": {
     "end_time": "2023-09-25T03:27:25.907363Z",
     "start_time": "2023-09-25T03:27:25.893460Z"
    }
   },
   "outputs": [
    {
     "data": {
      "text/plain": [
       "array([1, 3, 5, 7, 9])"
      ]
     },
     "execution_count": 70,
     "metadata": {},
     "output_type": "execute_result"
    }
   ],
   "source": [
    "arr1[1::2]"
   ]
  },
  {
   "cell_type": "code",
   "execution_count": 71,
   "id": "50723e3b",
   "metadata": {
    "ExecuteTime": {
     "end_time": "2023-09-25T03:27:56.608918Z",
     "start_time": "2023-09-25T03:27:56.588850Z"
    }
   },
   "outputs": [
    {
     "data": {
      "text/plain": [
       "array([1, 3, 5])"
      ]
     },
     "execution_count": 71,
     "metadata": {},
     "output_type": "execute_result"
    }
   ],
   "source": [
    "arr1[1:7:2]"
   ]
  },
  {
   "cell_type": "code",
   "execution_count": 72,
   "id": "3f858cd5",
   "metadata": {
    "ExecuteTime": {
     "end_time": "2023-09-25T03:28:19.564568Z",
     "start_time": "2023-09-25T03:28:19.548504Z"
    }
   },
   "outputs": [
    {
     "data": {
      "text/plain": [
       "array([0, 2, 4, 6, 8])"
      ]
     },
     "execution_count": 72,
     "metadata": {},
     "output_type": "execute_result"
    }
   ],
   "source": [
    "arr1[::2]"
   ]
  },
  {
   "cell_type": "code",
   "execution_count": 73,
   "id": "8cab42d8",
   "metadata": {
    "ExecuteTime": {
     "end_time": "2023-09-25T03:29:26.502042Z",
     "start_time": "2023-09-25T03:29:26.486972Z"
    }
   },
   "outputs": [
    {
     "data": {
      "text/plain": [
       "array([7, 8])"
      ]
     },
     "execution_count": 73,
     "metadata": {},
     "output_type": "execute_result"
    }
   ],
   "source": [
    "# 리버스 인덱스는 배열의 뒤에서 부터 인덱스값이 -1로 시작되는 인덱스\n",
    "arr1[-3:9]"
   ]
  },
  {
   "cell_type": "code",
   "execution_count": 74,
   "id": "74ddf5cb",
   "metadata": {
    "ExecuteTime": {
     "end_time": "2023-09-25T03:30:06.617835Z",
     "start_time": "2023-09-25T03:30:06.611867Z"
    }
   },
   "outputs": [
    {
     "data": {
      "text/plain": [
       "array([0, 1, 2, 3, 4, 5, 6])"
      ]
     },
     "execution_count": 74,
     "metadata": {},
     "output_type": "execute_result"
    }
   ],
   "source": [
    "arr1[:-3]"
   ]
  },
  {
   "cell_type": "code",
   "execution_count": 75,
   "id": "e78020ad",
   "metadata": {
    "ExecuteTime": {
     "end_time": "2023-09-25T03:30:23.698029Z",
     "start_time": "2023-09-25T03:30:23.682056Z"
    }
   },
   "outputs": [
    {
     "data": {
      "text/plain": [
       "array([[0, 1, 2],\n",
       "       [3, 4, 5],\n",
       "       [6, 7, 8]])"
      ]
     },
     "execution_count": 75,
     "metadata": {},
     "output_type": "execute_result"
    }
   ],
   "source": [
    "arr2"
   ]
  },
  {
   "cell_type": "code",
   "execution_count": 76,
   "id": "2524a482",
   "metadata": {
    "ExecuteTime": {
     "end_time": "2023-09-25T03:30:58.855820Z",
     "start_time": "2023-09-25T03:30:58.845819Z"
    }
   },
   "outputs": [
    {
     "data": {
      "text/plain": [
       "array([[0, 1],\n",
       "       [3, 4]])"
      ]
     },
     "execution_count": 76,
     "metadata": {},
     "output_type": "execute_result"
    }
   ],
   "source": [
    "arr2[:2,:2]"
   ]
  },
  {
   "cell_type": "code",
   "execution_count": 77,
   "id": "8563ca6a",
   "metadata": {
    "ExecuteTime": {
     "end_time": "2023-09-25T03:32:21.415699Z",
     "start_time": "2023-09-25T03:32:21.398727Z"
    }
   },
   "outputs": [
    {
     "data": {
      "text/plain": [
       "array([[2, 1, 0],\n",
       "       [5, 4, 3],\n",
       "       [8, 7, 6]])"
      ]
     },
     "execution_count": 77,
     "metadata": {},
     "output_type": "execute_result"
    }
   ],
   "source": [
    "arr2[:,::-1]"
   ]
  },
  {
   "cell_type": "markdown",
   "id": "d94e2556",
   "metadata": {},
   "source": [
    "## Numpy 기술 통계 관련 함수\n",
    "- 간단한 통계를 계산할 때 사용하는 함수\n",
    "- 데이터의 개수(count)\n",
    "- 평균(mean, average)\n",
    "- 분산(var, varaiance)\n",
    "- 표준편차(std, standard deviation)\n",
    "- 최대값(max, maximun)\n",
    "- 최소값(min, minimum)\n",
    "- 중앙값(median) : 짝수일경우 가운데 두개의 숫자의 합을 2로 나눈 결과\n",
    "- 사분위수(quantile)"
   ]
  },
  {
   "cell_type": "markdown",
   "id": "556423bc",
   "metadata": {},
   "source": [
    "## 집계 함수(Aggregate Function)\n",
    "- numpy의 모든 집계 함수는 axis를 기준으로 계산된다.\n",
    "- 집계함수에 axis를 지정하지 않으면 axis=None이다.\n",
    "- axis = None, 0, 1이다.\n",
    "- axis = None : 전체 행렬을 하나의 배열로 간주하여 범위 전체를 대상으로 계산\n",
    "- axis = 0 : 행을 기준으로 각 행의 동일한 인덱스의 요소를 그룹으로 계산(열단위 계산)\n",
    "- axis = 1 : 열을 기준으로 각 열의 같은 인덱스의 요소를 그룹으로 계산(행단위 계산)"
   ]
  },
  {
   "cell_type": "code",
   "execution_count": 78,
   "id": "7e658916",
   "metadata": {
    "ExecuteTime": {
     "end_time": "2023-09-25T03:42:35.250299Z",
     "start_time": "2023-09-25T03:42:35.236298Z"
    }
   },
   "outputs": [
    {
     "name": "stdout",
     "output_type": "stream",
     "text": [
      "[[1 2 3]\n",
      " [4 5 6]\n",
      " [7 8 9]]\n"
     ]
    }
   ],
   "source": [
    "a = np.arange(1, 10).reshape(3, 3)\n",
    "print(a)"
   ]
  },
  {
   "cell_type": "markdown",
   "id": "0ca313c3",
   "metadata": {},
   "source": [
    "**수업에서 사용할 함수 정의**"
   ]
  },
  {
   "cell_type": "code",
   "execution_count": 79,
   "id": "7a0fd7b3",
   "metadata": {
    "ExecuteTime": {
     "end_time": "2023-09-25T03:46:24.256785Z",
     "start_time": "2023-09-25T03:46:24.249814Z"
    }
   },
   "outputs": [],
   "source": [
    "def pprint(arr):\n",
    "    print(\"type : {}\".format(type(arr)))\n",
    "    print(\"shape : {}, dimension : {}, dtype : {}\".format(arr.shape,\n",
    "                                                          arr.ndim, arr.dtype))\n",
    "    print(\"Array's Data : \\n\", arr)"
   ]
  },
  {
   "cell_type": "code",
   "execution_count": 80,
   "id": "cb1b8fee",
   "metadata": {
    "ExecuteTime": {
     "end_time": "2023-09-25T03:46:58.377598Z",
     "start_time": "2023-09-25T03:46:58.370594Z"
    }
   },
   "outputs": [
    {
     "name": "stdout",
     "output_type": "stream",
     "text": [
      "type : <class 'numpy.ndarray'>\n",
      "shape : (3, 3), dimension : 2, dtype : int32\n",
      "Array's Data : \n",
      " [[1 2 3]\n",
      " [4 5 6]\n",
      " [7 8 9]]\n"
     ]
    }
   ],
   "source": [
    "pprint(a)"
   ]
  },
  {
   "cell_type": "code",
   "execution_count": 81,
   "id": "02ff207a",
   "metadata": {
    "ExecuteTime": {
     "end_time": "2023-09-25T03:49:34.641031Z",
     "start_time": "2023-09-25T03:49:34.623058Z"
    }
   },
   "outputs": [
    {
     "data": {
      "text/plain": [
       "(45, 45)"
      ]
     },
     "execution_count": 81,
     "metadata": {},
     "output_type": "execute_result"
    }
   ],
   "source": [
    "# ndarray 배열객체.함수()\n",
    "# np.함수(객체)\n",
    "a.sum(), np.sum(a)"
   ]
  },
  {
   "cell_type": "code",
   "execution_count": 82,
   "id": "248da7cc",
   "metadata": {
    "ExecuteTime": {
     "end_time": "2023-09-25T03:50:39.365356Z",
     "start_time": "2023-09-25T03:50:39.347391Z"
    }
   },
   "outputs": [
    {
     "data": {
      "text/plain": [
       "(array([12, 15, 18]), array([12, 15, 18]))"
      ]
     },
     "execution_count": 82,
     "metadata": {},
     "output_type": "execute_result"
    }
   ],
   "source": [
    "# 열단위로 계산\n",
    "a.sum(axis=0), np.sum(a, axis=0)"
   ]
  },
  {
   "cell_type": "code",
   "execution_count": 83,
   "id": "3d15f653",
   "metadata": {
    "ExecuteTime": {
     "end_time": "2023-09-25T03:51:21.692042Z",
     "start_time": "2023-09-25T03:51:21.675066Z"
    }
   },
   "outputs": [
    {
     "data": {
      "text/plain": [
       "(array([ 6, 15, 24]), array([ 6, 15, 24]))"
      ]
     },
     "execution_count": 83,
     "metadata": {},
     "output_type": "execute_result"
    }
   ],
   "source": [
    "# 행단위로 계산\n",
    "a.sum(axis=1), np.sum(a, axis=1)"
   ]
  },
  {
   "cell_type": "markdown",
   "id": "42a2037f",
   "metadata": {},
   "source": [
    "**ndarray객체.min() or np.min() : 최소값**"
   ]
  },
  {
   "cell_type": "code",
   "execution_count": 87,
   "id": "b6aaf3a3",
   "metadata": {
    "ExecuteTime": {
     "end_time": "2023-09-25T05:16:56.444379Z",
     "start_time": "2023-09-25T05:16:56.424271Z"
    }
   },
   "outputs": [
    {
     "data": {
      "text/plain": [
       "(1, 1)"
      ]
     },
     "execution_count": 87,
     "metadata": {},
     "output_type": "execute_result"
    }
   ],
   "source": [
    "# axis=None, 전체 요소를 대상으로 계산\n",
    "a.min(), np.min(a)"
   ]
  },
  {
   "cell_type": "code",
   "execution_count": 85,
   "id": "36325114",
   "metadata": {
    "ExecuteTime": {
     "end_time": "2023-09-25T05:16:01.155946Z",
     "start_time": "2023-09-25T05:16:01.144946Z"
    }
   },
   "outputs": [
    {
     "data": {
      "text/plain": [
       "(array([1, 2, 3]), array([1, 2, 3]))"
      ]
     },
     "execution_count": 85,
     "metadata": {},
     "output_type": "execute_result"
    }
   ],
   "source": [
    "# 열단위 계산\n",
    "a.min(axis=0), np.min(a, axis=0)"
   ]
  },
  {
   "cell_type": "code",
   "execution_count": 86,
   "id": "b5b79533",
   "metadata": {
    "ExecuteTime": {
     "end_time": "2023-09-25T05:16:35.992735Z",
     "start_time": "2023-09-25T05:16:35.977864Z"
    }
   },
   "outputs": [
    {
     "data": {
      "text/plain": [
       "(array([1, 4, 7]), array([1, 4, 7]))"
      ]
     },
     "execution_count": 86,
     "metadata": {},
     "output_type": "execute_result"
    }
   ],
   "source": [
    "# 행단위 계산\n",
    "a.min(axis=1), np.min(a, axis=1)"
   ]
  },
  {
   "cell_type": "markdown",
   "id": "e5599971",
   "metadata": {},
   "source": [
    "**ndarray객체.max() or np.max(객체)**"
   ]
  },
  {
   "cell_type": "code",
   "execution_count": 88,
   "id": "f9fedb8f",
   "metadata": {
    "ExecuteTime": {
     "end_time": "2023-09-25T05:18:04.005593Z",
     "start_time": "2023-09-25T05:18:03.996594Z"
    }
   },
   "outputs": [
    {
     "data": {
      "text/plain": [
       "(9, 9)"
      ]
     },
     "execution_count": 88,
     "metadata": {},
     "output_type": "execute_result"
    }
   ],
   "source": [
    "# 전체 요소를 대상\n",
    "a.max(), np.max(a)"
   ]
  },
  {
   "cell_type": "code",
   "execution_count": 89,
   "id": "0ca3d031",
   "metadata": {
    "ExecuteTime": {
     "end_time": "2023-09-25T05:18:41.733557Z",
     "start_time": "2023-09-25T05:18:41.721524Z"
    }
   },
   "outputs": [
    {
     "data": {
      "text/plain": [
       "(array([7, 8, 9]), array([7, 8, 9]))"
      ]
     },
     "execution_count": 89,
     "metadata": {},
     "output_type": "execute_result"
    }
   ],
   "source": [
    "a.max(axis=0), np.max(a, axis=0)"
   ]
  },
  {
   "cell_type": "code",
   "execution_count": 90,
   "id": "000dde23",
   "metadata": {
    "ExecuteTime": {
     "end_time": "2023-09-25T05:19:13.464001Z",
     "start_time": "2023-09-25T05:19:13.448440Z"
    }
   },
   "outputs": [
    {
     "data": {
      "text/plain": [
       "(array([3, 6, 9]), array([3, 6, 9]))"
      ]
     },
     "execution_count": 90,
     "metadata": {},
     "output_type": "execute_result"
    }
   ],
   "source": [
    "a.max(axis=1), np.max(a, axis=1)"
   ]
  },
  {
   "cell_type": "markdown",
   "id": "9459934d",
   "metadata": {},
   "source": [
    "**ndarray객체.cumsum(), np.cumsum() : 누적합계**"
   ]
  },
  {
   "cell_type": "code",
   "execution_count": 91,
   "id": "5303b646",
   "metadata": {
    "ExecuteTime": {
     "end_time": "2023-09-25T05:20:49.757171Z",
     "start_time": "2023-09-25T05:20:49.743170Z"
    }
   },
   "outputs": [
    {
     "data": {
      "text/plain": [
       "(array([ 1,  3,  6, 10, 15, 21, 28, 36, 45]),\n",
       " array([ 1,  3,  6, 10, 15, 21, 28, 36, 45]))"
      ]
     },
     "execution_count": 91,
     "metadata": {},
     "output_type": "execute_result"
    }
   ],
   "source": [
    "a.cumsum(), np.cumsum(a)"
   ]
  },
  {
   "cell_type": "code",
   "execution_count": 92,
   "id": "8af331c1",
   "metadata": {
    "ExecuteTime": {
     "end_time": "2023-09-25T05:22:15.191797Z",
     "start_time": "2023-09-25T05:22:15.178821Z"
    }
   },
   "outputs": [
    {
     "data": {
      "text/plain": [
       "(array([[ 1,  2,  3],\n",
       "        [ 5,  7,  9],\n",
       "        [12, 15, 18]]),\n",
       " array([[ 1,  2,  3],\n",
       "        [ 5,  7,  9],\n",
       "        [12, 15, 18]]))"
      ]
     },
     "execution_count": 92,
     "metadata": {},
     "output_type": "execute_result"
    }
   ],
   "source": [
    "# 열단위 계산\n",
    "a.cumsum(axis=0), np.cumsum(a, axis=0)"
   ]
  },
  {
   "cell_type": "code",
   "execution_count": 93,
   "id": "19d65e39",
   "metadata": {
    "ExecuteTime": {
     "end_time": "2023-09-25T05:23:04.744887Z",
     "start_time": "2023-09-25T05:23:04.729230Z"
    }
   },
   "outputs": [
    {
     "data": {
      "text/plain": [
       "(array([[ 1,  3,  6],\n",
       "        [ 4,  9, 15],\n",
       "        [ 7, 15, 24]]),\n",
       " array([[ 1,  3,  6],\n",
       "        [ 4,  9, 15],\n",
       "        [ 7, 15, 24]]))"
      ]
     },
     "execution_count": 93,
     "metadata": {},
     "output_type": "execute_result"
    }
   ],
   "source": [
    "# 행단위 계산\n",
    "a.cumsum(axis=1), np.cumsum(a, axis=1)"
   ]
  },
  {
   "cell_type": "markdown",
   "id": "a8a9ce49",
   "metadata": {},
   "source": [
    "**ndarray.mean(), np.mean() : 평균**"
   ]
  },
  {
   "cell_type": "code",
   "execution_count": null,
   "id": "a11eae63",
   "metadata": {},
   "outputs": [],
   "source": []
  },
  {
   "cell_type": "markdown",
   "id": "e590adb7",
   "metadata": {},
   "source": [
    "**ndarray.median() : 중앙값**"
   ]
  },
  {
   "cell_type": "code",
   "execution_count": null,
   "id": "cdfcaba5",
   "metadata": {},
   "outputs": [],
   "source": []
  },
  {
   "cell_type": "markdown",
   "id": "aed5d0a8",
   "metadata": {},
   "source": [
    "**np.corrcoef() : 상관계수, correlation coeficient**"
   ]
  },
  {
   "cell_type": "code",
   "execution_count": 94,
   "id": "9684341f",
   "metadata": {
    "ExecuteTime": {
     "end_time": "2023-09-25T05:26:04.180292Z",
     "start_time": "2023-09-25T05:26:04.155228Z"
    }
   },
   "outputs": [
    {
     "data": {
      "text/plain": [
       "array([[1., 1., 1.],\n",
       "       [1., 1., 1.],\n",
       "       [1., 1., 1.]])"
      ]
     },
     "execution_count": 94,
     "metadata": {},
     "output_type": "execute_result"
    }
   ],
   "source": [
    "np.corrcoef(a)"
   ]
  },
  {
   "cell_type": "markdown",
   "id": "7761cd5c",
   "metadata": {},
   "source": [
    "**ndarray객체.std(), np.std() : 표준편차**"
   ]
  },
  {
   "cell_type": "code",
   "execution_count": null,
   "id": "c69198c7",
   "metadata": {},
   "outputs": [],
   "source": []
  },
  {
   "cell_type": "markdown",
   "id": "11f449a8",
   "metadata": {},
   "source": [
    "## 난수 기반 배열 생성\n",
    "- numpy.random 모듈 이용"
   ]
  },
  {
   "cell_type": "markdown",
   "id": "8b22d626",
   "metadata": {},
   "source": [
    "**np.random.normal**\n",
    "- normal(loc=0.0, scale=1.0, size=None)\n",
    "- 정규 분포 확률 밀도에서 표본 추출 함수\n",
    "- loc : 정규분포의 평균\n",
    "- scale : 표준편차"
   ]
  },
  {
   "cell_type": "code",
   "execution_count": 95,
   "id": "6dca154f",
   "metadata": {
    "ExecuteTime": {
     "end_time": "2023-09-25T05:33:20.495550Z",
     "start_time": "2023-09-25T05:33:20.487549Z"
    }
   },
   "outputs": [
    {
     "name": "stdout",
     "output_type": "stream",
     "text": [
      "type : <class 'numpy.ndarray'>\n",
      "shape : (2, 3), dimension : 2, dtype : float64\n",
      "Array's Data : \n",
      " [[-1.58841651  1.32448766 -0.20745197]\n",
      " [-0.90209012  0.56147453 -0.04978495]]\n"
     ]
    }
   ],
   "source": [
    "mean = 0\n",
    "std = 1\n",
    "a = np.random.normal(mean, std, (2, 3))\n",
    "pprint(a)"
   ]
  },
  {
   "cell_type": "code",
   "execution_count": 96,
   "id": "356455d2",
   "metadata": {
    "ExecuteTime": {
     "end_time": "2023-09-25T05:36:54.634056Z",
     "start_time": "2023-09-25T05:36:53.955290Z"
    }
   },
   "outputs": [
    {
     "data": {
      "image/png": "[encoded data removed]",
      "text/plain": [
       "<Figure size 640x480 with 1 Axes>"
      ]
     },
     "metadata": {},
     "output_type": "display_data"
    }
   ],
   "source": [
    "import matplotlib.pyplot as plt\n",
    "%matplotlib inline\n",
    "\n",
    "data = np.random.normal(0, 1, 10000)\n",
    "# 히스토그램, 100개의 구간으로 구분\n",
    "plt.hist(data, bins=100)\n",
    "plt.show()"
   ]
  },
  {
   "cell_type": "markdown",
   "id": "f0187b81",
   "metadata": {},
   "source": [
    "**np.random.rand() : 균등분포, 0.0 ~ 1.0**"
   ]
  },
  {
   "cell_type": "code",
   "execution_count": 97,
   "id": "3737bf78",
   "metadata": {
    "ExecuteTime": {
     "end_time": "2023-09-25T05:38:30.019376Z",
     "start_time": "2023-09-25T05:38:30.005408Z"
    }
   },
   "outputs": [
    {
     "name": "stdout",
     "output_type": "stream",
     "text": [
      "type : <class 'numpy.ndarray'>\n",
      "shape : (3, 2), dimension : 2, dtype : float64\n",
      "Array's Data : \n",
      " [[0.28046125 0.74540598]\n",
      " [0.73359538 0.98150907]\n",
      " [0.47065591 0.96076838]]\n"
     ]
    }
   ],
   "source": [
    "a = np.random.rand(3, 2)\n",
    "pprint(a)"
   ]
  },
  {
   "cell_type": "code",
   "execution_count": 98,
   "id": "6bb9f1c3",
   "metadata": {
    "ExecuteTime": {
     "end_time": "2023-09-25T05:39:29.136840Z",
     "start_time": "2023-09-25T05:39:29.023930Z"
    }
   },
   "outputs": [
    {
     "data": {
      "image/png": "[encoded data removed]",
      "text/plain": [
       "<Figure size 640x480 with 1 Axes>"
      ]
     },
     "metadata": {},
     "output_type": "display_data"
    }
   ],
   "source": [
    "data = np.random.rand(10000)\n",
    "plt.hist(data, bins=10)\n",
    "plt.show()"
   ]
  },
  {
   "cell_type": "markdown",
   "id": "152877a2",
   "metadata": {},
   "source": [
    "**np.random.randn() : 표준 정규 분포**"
   ]
  },
  {
   "cell_type": "code",
   "execution_count": 99,
   "id": "8b143654",
   "metadata": {
    "ExecuteTime": {
     "end_time": "2023-09-25T05:40:54.344158Z",
     "start_time": "2023-09-25T05:40:54.330110Z"
    }
   },
   "outputs": [
    {
     "name": "stdout",
     "output_type": "stream",
     "text": [
      "type : <class 'numpy.ndarray'>\n",
      "shape : (2, 4), dimension : 2, dtype : float64\n",
      "Array's Data : \n",
      " [[ 0.0753994  -0.13749891  1.1345142  -1.56752181]\n",
      " [-1.11474566 -0.87661858  0.294969    0.37314543]]\n"
     ]
    }
   ],
   "source": [
    "a = np.random.randn(2, 4)\n",
    "pprint(a)"
   ]
  },
  {
   "cell_type": "code",
   "execution_count": 100,
   "id": "bdbd4b38",
   "metadata": {
    "ExecuteTime": {
     "end_time": "2023-09-25T05:41:51.939032Z",
     "start_time": "2023-09-25T05:41:51.812450Z"
    }
   },
   "outputs": [
    {
     "data": {
      "image/png": "[encoded data removed]",
      "text/plain": [
       "<Figure size 640x480 with 1 Axes>"
      ]
     },
     "metadata": {},
     "output_type": "display_data"
    }
   ],
   "source": [
    "data = np.random.randn(10000)\n",
    "plt.hist(data, bins=10)\n",
    "plt.show()"
   ]
  },
  {
   "cell_type": "markdown",
   "id": "c3eed707",
   "metadata": {},
   "source": [
    "**np.random.randint(low, high, size, dtype='i')**"
   ]
  },
  {
   "cell_type": "code",
   "execution_count": 101,
   "id": "f273910e",
   "metadata": {
    "ExecuteTime": {
     "end_time": "2023-09-25T05:44:20.199933Z",
     "start_time": "2023-09-25T05:44:20.179924Z"
    }
   },
   "outputs": [
    {
     "name": "stdout",
     "output_type": "stream",
     "text": [
      "type : <class 'numpy.ndarray'>\n",
      "shape : (2, 4), dimension : 2, dtype : int32\n",
      "Array's Data : \n",
      " [[7 9 7 5]\n",
      " [8 7 8 9]]\n"
     ]
    }
   ],
   "source": [
    "a = np.random.randint(5, 10, size=(2, 4))\n",
    "pprint(a)"
   ]
  },
  {
   "cell_type": "code",
   "execution_count": 102,
   "id": "cba33cff",
   "metadata": {
    "ExecuteTime": {
     "end_time": "2023-09-25T05:45:32.661143Z",
     "start_time": "2023-09-25T05:45:32.535209Z"
    }
   },
   "outputs": [
    {
     "data": {
      "image/png": "[encoded data removed]",
      "text/plain": [
       "<Figure size 640x480 with 1 Axes>"
      ]
     },
     "metadata": {},
     "output_type": "display_data"
    }
   ],
   "source": [
    "data = np.random.randint(-100, 100, 10000)\n",
    "plt.hist(data, bins=10)\n",
    "plt.show()"
   ]
  },
  {
   "cell_type": "markdown",
   "id": "aa34a1d0",
   "metadata": {},
   "source": [
    "**np.random.random(size) : 0.0 ~ 1.0 균등분포 난수**"
   ]
  },
  {
   "cell_type": "code",
   "execution_count": 103,
   "id": "b857c04d",
   "metadata": {
    "ExecuteTime": {
     "end_time": "2023-09-25T05:46:49.566103Z",
     "start_time": "2023-09-25T05:46:49.549960Z"
    }
   },
   "outputs": [
    {
     "name": "stdout",
     "output_type": "stream",
     "text": [
      "type : <class 'numpy.ndarray'>\n",
      "shape : (2, 4), dimension : 2, dtype : float64\n",
      "Array's Data : \n",
      " [[0.3037954  0.05285482 0.24250007 0.98153403]\n",
      " [0.53836136 0.98160266 0.30748816 0.93735834]]\n"
     ]
    }
   ],
   "source": [
    "a = np.random.random((2, 4))\n",
    "pprint(a)"
   ]
  },
  {
   "cell_type": "markdown",
   "id": "4149ad7b",
   "metadata": {},
   "source": [
    "**약속된 난수 : seed값**\n",
    "- np.random.seed() : 난수를 재연할 수 있다.\n",
    "- 시드값으로 0보다 크거나 같은 정수를 담는다"
   ]
  },
  {
   "cell_type": "code",
   "execution_count": 105,
   "id": "839173e4",
   "metadata": {
    "ExecuteTime": {
     "end_time": "2023-09-25T05:48:55.801574Z",
     "start_time": "2023-09-25T05:48:55.786603Z"
    }
   },
   "outputs": [
    {
     "data": {
      "text/plain": [
       "array([[0.9535742 , 0.70084528],\n",
       "       [0.32839713, 0.60225314]])"
      ]
     },
     "execution_count": 105,
     "metadata": {},
     "output_type": "execute_result"
    }
   ],
   "source": [
    "np.random.random((2, 2))"
   ]
  },
  {
   "cell_type": "code",
   "execution_count": 107,
   "id": "0fec8861",
   "metadata": {
    "ExecuteTime": {
     "end_time": "2023-09-25T05:49:29.748129Z",
     "start_time": "2023-09-25T05:49:29.741129Z"
    }
   },
   "outputs": [
    {
     "data": {
      "text/plain": [
       "array([[4, 8, 7],\n",
       "       [6, 3, 0]])"
      ]
     },
     "execution_count": 107,
     "metadata": {},
     "output_type": "execute_result"
    }
   ],
   "source": [
    "np.random.randint(0, 10, (2, 3))"
   ]
  },
  {
   "cell_type": "code",
   "execution_count": 108,
   "id": "f9371d1f",
   "metadata": {
    "ExecuteTime": {
     "end_time": "2023-09-25T05:51:06.911457Z",
     "start_time": "2023-09-25T05:51:06.902448Z"
    }
   },
   "outputs": [],
   "source": [
    "np.random.seed(2023)"
   ]
  },
  {
   "cell_type": "code",
   "execution_count": 109,
   "id": "bd9d019d",
   "metadata": {
    "ExecuteTime": {
     "end_time": "2023-09-25T05:51:18.817679Z",
     "start_time": "2023-09-25T05:51:18.805679Z"
    }
   },
   "outputs": [
    {
     "data": {
      "text/plain": [
       "array([[0.3219883 , 0.89042245],\n",
       "       [0.58805226, 0.12659609]])"
      ]
     },
     "execution_count": 109,
     "metadata": {},
     "output_type": "execute_result"
    }
   ],
   "source": [
    "np.random.random((2, 2))"
   ]
  },
  {
   "cell_type": "code",
   "execution_count": 110,
   "id": "485e6183",
   "metadata": {
    "ExecuteTime": {
     "end_time": "2023-09-25T05:51:38.630048Z",
     "start_time": "2023-09-25T05:51:38.610085Z"
    }
   },
   "outputs": [
    {
     "data": {
      "text/plain": [
       "array([[4, 6, 5],\n",
       "       [0, 6, 1]])"
      ]
     },
     "execution_count": 110,
     "metadata": {},
     "output_type": "execute_result"
    }
   ],
   "source": [
    "np.random.randint(0, 10, (2, 3))"
   ]
  },
  {
   "cell_type": "code",
   "execution_count": 111,
   "id": "39fd0803",
   "metadata": {
    "ExecuteTime": {
     "end_time": "2023-09-25T05:51:51.917474Z",
     "start_time": "2023-09-25T05:51:51.911444Z"
    }
   },
   "outputs": [
    {
     "data": {
      "text/plain": [
       "array([[5, 7, 5],\n",
       "       [8, 2, 3]])"
      ]
     },
     "execution_count": 111,
     "metadata": {},
     "output_type": "execute_result"
    }
   ],
   "source": [
    "np.random.randint(0, 10, (2, 3))"
   ]
  },
  {
   "cell_type": "code",
   "execution_count": 112,
   "id": "23b64ef2",
   "metadata": {
    "ExecuteTime": {
     "end_time": "2023-09-25T05:52:09.721012Z",
     "start_time": "2023-09-25T05:52:09.705391Z"
    }
   },
   "outputs": [],
   "source": [
    "np.random.seed(2023)"
   ]
  },
  {
   "cell_type": "code",
   "execution_count": 113,
   "id": "f763dd52",
   "metadata": {
    "ExecuteTime": {
     "end_time": "2023-09-25T05:52:32.431971Z",
     "start_time": "2023-09-25T05:52:32.421970Z"
    }
   },
   "outputs": [
    {
     "data": {
      "text/plain": [
       "array([[0.3219883 , 0.89042245],\n",
       "       [0.58805226, 0.12659609]])"
      ]
     },
     "execution_count": 113,
     "metadata": {},
     "output_type": "execute_result"
    }
   ],
   "source": [
    "np.random.random((2, 2))"
   ]
  },
  {
   "cell_type": "code",
   "execution_count": 114,
   "id": "fba70196",
   "metadata": {
    "ExecuteTime": {
     "end_time": "2023-09-25T05:52:44.432861Z",
     "start_time": "2023-09-25T05:52:44.424861Z"
    }
   },
   "outputs": [
    {
     "data": {
      "text/plain": [
       "array([[4, 6, 5],\n",
       "       [0, 6, 1]])"
      ]
     },
     "execution_count": 114,
     "metadata": {},
     "output_type": "execute_result"
    }
   ],
   "source": [
    "np.random.randint(0, 10, (2, 3))"
   ]
  },
  {
   "cell_type": "markdown",
   "id": "35108234",
   "metadata": {},
   "source": [
    "## Numpy 입출력\n",
    "- Numpy는 배열 객체를 바이너리 파일 혹은 텍스트 파일에 저장하고 로딩하는 기능을 제공한다.\n",
    "- np.save() : Numpy 배열 객체 1개를 파일에 저장, 바이너리 포멧\n",
    "- np.savez() : Numpy 배열 객체 복수개를 파일에 저장, 바이너리 포멧\n",
    "- np.load() : Numpy 배열 저장 파일로 부터 객체 로딩, 바이너리 포멧\n",
    "- np.loadtxt() : 텍스트 파일로 부터 배열 로딩, 텍스트 포멧\n",
    "- np.savetxt() : 텍스트 파일에 Numpy 배열 객체 저장, 텍스트 포멧"
   ]
  },
  {
   "cell_type": "code",
   "execution_count": 115,
   "id": "02f9e0c5",
   "metadata": {
    "ExecuteTime": {
     "end_time": "2023-09-25T06:16:48.724356Z",
     "start_time": "2023-09-25T06:16:48.709324Z"
    }
   },
   "outputs": [
    {
     "name": "stdout",
     "output_type": "stream",
     "text": [
      "type : <class 'numpy.ndarray'>\n",
      "shape : (2, 3), dimension : 2, dtype : int32\n",
      "Array's Data : \n",
      " [[5 7 5]\n",
      " [8 2 3]]\n",
      "type : <class 'numpy.ndarray'>\n",
      "shape : (2, 3), dimension : 2, dtype : int32\n",
      "Array's Data : \n",
      " [[1 0 7]\n",
      " [1 0 0]]\n"
     ]
    }
   ],
   "source": [
    "a = np.random.randint(0, 10, (2, 3))\n",
    "b = np.random.randint(0, 10, (2, 3))\n",
    "pprint(a)\n",
    "pprint(b)"
   ]
  },
  {
   "cell_type": "markdown",
   "id": "e706792b",
   "metadata": {},
   "source": [
    "**배열 객체 저장**\n",
    "- np.save()와 np.savez() 함수를 이용\n",
    "- np.save : 1개 배열 저장, 확장자 : npy\n",
    "- np.savez : 복수개의 배열 저장, 확장자 : pnz\n",
    "- 배열에 저장되는 파일의 포멧을 바이너리 형태이다."
   ]
  },
  {
   "cell_type": "code",
   "execution_count": 116,
   "id": "3a70dccc",
   "metadata": {
    "ExecuteTime": {
     "end_time": "2023-09-25T06:25:41.223093Z",
     "start_time": "2023-09-25T06:25:41.212114Z"
    }
   },
   "outputs": [],
   "source": [
    "# 1개 배열 파일을 저장\n",
    "np.save(\"./my_array1\", a)"
   ]
  },
  {
   "cell_type": "code",
   "execution_count": 117,
   "id": "e411af98",
   "metadata": {
    "ExecuteTime": {
     "end_time": "2023-09-25T06:26:55.840871Z",
     "start_time": "2023-09-25T06:26:55.830804Z"
    }
   },
   "outputs": [],
   "source": [
    "# 복수개의 배열 객체를 파일에 저장\n",
    "np.savez(\"my_array2\", a, b)"
   ]
  },
  {
   "cell_type": "markdown",
   "id": "07a9a567",
   "metadata": {},
   "source": [
    "**파일로 부터 배열 객체를 로딩**\n",
    "- npy, npz은 np.load() 함수로 읽어온다"
   ]
  },
  {
   "cell_type": "code",
   "execution_count": 118,
   "id": "50e8dce5",
   "metadata": {
    "ExecuteTime": {
     "end_time": "2023-09-25T06:28:43.419097Z",
     "start_time": "2023-09-25T06:28:43.404132Z"
    }
   },
   "outputs": [
    {
     "data": {
      "text/plain": [
       "array([[5, 7, 5],\n",
       "       [8, 2, 3]])"
      ]
     },
     "execution_count": 118,
     "metadata": {},
     "output_type": "execute_result"
    }
   ],
   "source": [
    "np.load(\"my_array1.npy\")"
   ]
  },
  {
   "cell_type": "code",
   "execution_count": 119,
   "id": "95fa4335",
   "metadata": {
    "ExecuteTime": {
     "end_time": "2023-09-25T06:29:44.032952Z",
     "start_time": "2023-09-25T06:29:44.018920Z"
    }
   },
   "outputs": [
    {
     "data": {
      "text/plain": [
       "['arr_0', 'arr_1']"
      ]
     },
     "execution_count": 119,
     "metadata": {},
     "output_type": "execute_result"
    }
   ],
   "source": [
    "file = np.load(\"my_array2.npz\")\n",
    "file.files"
   ]
  },
  {
   "cell_type": "code",
   "execution_count": 120,
   "id": "6aad63b5",
   "metadata": {
    "ExecuteTime": {
     "end_time": "2023-09-25T06:30:17.573795Z",
     "start_time": "2023-09-25T06:30:17.553756Z"
    }
   },
   "outputs": [
    {
     "data": {
      "text/plain": [
       "array([[5, 7, 5],\n",
       "       [8, 2, 3]])"
      ]
     },
     "execution_count": 120,
     "metadata": {},
     "output_type": "execute_result"
    }
   ],
   "source": [
    "file['arr_0']"
   ]
  },
  {
   "cell_type": "code",
   "execution_count": 121,
   "id": "1167253e",
   "metadata": {
    "ExecuteTime": {
     "end_time": "2023-09-25T06:30:26.651196Z",
     "start_time": "2023-09-25T06:30:26.637195Z"
    }
   },
   "outputs": [
    {
     "data": {
      "text/plain": [
       "array([[1, 0, 7],\n",
       "       [1, 0, 0]])"
      ]
     },
     "execution_count": 121,
     "metadata": {},
     "output_type": "execute_result"
    }
   ],
   "source": [
    "file['arr_1']"
   ]
  },
  {
   "cell_type": "markdown",
   "id": "4b65b805",
   "metadata": {},
   "source": [
    "## 배열 변환\n",
    "- 전치(Transpose)\n",
    "- 배열 shape 변환 : reshape\n",
    "- 배열 요소 추가\n",
    "- 배열 결합\n",
    "- 배열 분리"
   ]
  },
  {
   "cell_type": "markdown",
   "id": "83d5a0a1",
   "metadata": {},
   "source": [
    "**np.ndarray객체.T**"
   ]
  },
  {
   "cell_type": "code",
   "execution_count": 123,
   "id": "f3cd89ac",
   "metadata": {
    "ExecuteTime": {
     "end_time": "2023-09-25T06:36:14.461239Z",
     "start_time": "2023-09-25T06:36:14.453245Z"
    }
   },
   "outputs": [
    {
     "name": "stdout",
     "output_type": "stream",
     "text": [
      "type : <class 'numpy.ndarray'>\n",
      "shape : (2, 3), dimension : 2, dtype : int32\n",
      "Array's Data : \n",
      " [[2 6 7]\n",
      " [5 7 9]]\n"
     ]
    }
   ],
   "source": [
    "a = np.random.randint(1, 10, (2, 3))\n",
    "pprint(a)"
   ]
  },
  {
   "cell_type": "code",
   "execution_count": 124,
   "id": "f2dcc27b",
   "metadata": {
    "ExecuteTime": {
     "end_time": "2023-09-25T06:36:17.166295Z",
     "start_time": "2023-09-25T06:36:17.147267Z"
    }
   },
   "outputs": [
    {
     "name": "stdout",
     "output_type": "stream",
     "text": [
      "type : <class 'numpy.ndarray'>\n",
      "shape : (3, 2), dimension : 2, dtype : int32\n",
      "Array's Data : \n",
      " [[2 5]\n",
      " [6 7]\n",
      " [7 9]]\n"
     ]
    }
   ],
   "source": [
    "pprint(a.T)"
   ]
  },
  {
   "cell_type": "markdown",
   "id": "9b26d5d2",
   "metadata": {},
   "source": [
    "**배열 형태 변경**\n",
    "- ravel : shape을 1차원 배열로 만드는 메서드\n",
    "- reshape : 데이터 변경없이 지정된 shape으로 변환하는 메서드"
   ]
  },
  {
   "cell_type": "code",
   "execution_count": 125,
   "id": "6036094f",
   "metadata": {
    "ExecuteTime": {
     "end_time": "2023-09-25T06:37:52.890004Z",
     "start_time": "2023-09-25T06:37:52.885003Z"
    }
   },
   "outputs": [
    {
     "name": "stdout",
     "output_type": "stream",
     "text": [
      "type : <class 'numpy.ndarray'>\n",
      "shape : (2, 3), dimension : 2, dtype : int32\n",
      "Array's Data : \n",
      " [[2 6 7]\n",
      " [5 7 9]]\n"
     ]
    }
   ],
   "source": [
    "pprint(a)"
   ]
  },
  {
   "cell_type": "code",
   "execution_count": 126,
   "id": "ed3f29fe",
   "metadata": {
    "ExecuteTime": {
     "end_time": "2023-09-25T06:38:22.618984Z",
     "start_time": "2023-09-25T06:38:22.607973Z"
    }
   },
   "outputs": [
    {
     "data": {
      "text/plain": [
       "array([2, 6, 7, 5, 7, 9])"
      ]
     },
     "execution_count": 126,
     "metadata": {},
     "output_type": "execute_result"
    }
   ],
   "source": [
    "a.ravel()"
   ]
  },
  {
   "cell_type": "code",
   "execution_count": 127,
   "id": "efd3bf1b",
   "metadata": {
    "ExecuteTime": {
     "end_time": "2023-09-25T06:38:47.317531Z",
     "start_time": "2023-09-25T06:38:47.305528Z"
    }
   },
   "outputs": [
    {
     "name": "stdout",
     "output_type": "stream",
     "text": [
      "type : <class 'numpy.ndarray'>\n",
      "shape : (2, 3), dimension : 2, dtype : int32\n",
      "Array's Data : \n",
      " [[2 6 7]\n",
      " [5 7 9]]\n"
     ]
    }
   ],
   "source": [
    "pprint(a)"
   ]
  },
  {
   "cell_type": "code",
   "execution_count": 128,
   "id": "64a8e97e",
   "metadata": {
    "ExecuteTime": {
     "end_time": "2023-09-25T06:39:07.091871Z",
     "start_time": "2023-09-25T06:39:07.086901Z"
    }
   },
   "outputs": [
    {
     "name": "stdout",
     "output_type": "stream",
     "text": [
      "type : <class 'numpy.ndarray'>\n",
      "shape : (6,), dimension : 1, dtype : int32\n",
      "Array's Data : \n",
      " [2 6 7 5 7 9]\n"
     ]
    }
   ],
   "source": [
    "b = a.ravel()\n",
    "pprint(b)"
   ]
  },
  {
   "cell_type": "code",
   "execution_count": 129,
   "id": "e88ba4ef",
   "metadata": {
    "ExecuteTime": {
     "end_time": "2023-09-25T06:39:52.599420Z",
     "start_time": "2023-09-25T06:39:52.582419Z"
    }
   },
   "outputs": [
    {
     "name": "stdout",
     "output_type": "stream",
     "text": [
      "type : <class 'numpy.ndarray'>\n",
      "shape : (6,), dimension : 1, dtype : int32\n",
      "Array's Data : \n",
      " [99  6  7  5  7  9]\n"
     ]
    }
   ],
   "source": [
    "# 반환된 배열의 데이터가 변경되면 원본도 변경된다.\n",
    "b[0] = 99\n",
    "pprint(b)"
   ]
  },
  {
   "cell_type": "code",
   "execution_count": 130,
   "id": "1b574f57",
   "metadata": {
    "ExecuteTime": {
     "end_time": "2023-09-25T06:40:06.545889Z",
     "start_time": "2023-09-25T06:40:06.538888Z"
    }
   },
   "outputs": [
    {
     "name": "stdout",
     "output_type": "stream",
     "text": [
      "type : <class 'numpy.ndarray'>\n",
      "shape : (2, 3), dimension : 2, dtype : int32\n",
      "Array's Data : \n",
      " [[99  6  7]\n",
      " [ 5  7  9]]\n"
     ]
    }
   ],
   "source": [
    "pprint(a)"
   ]
  },
  {
   "cell_type": "code",
   "execution_count": 131,
   "id": "2b83f1a1",
   "metadata": {
    "ExecuteTime": {
     "end_time": "2023-09-25T06:40:56.097777Z",
     "start_time": "2023-09-25T06:40:56.082733Z"
    }
   },
   "outputs": [
    {
     "name": "stdout",
     "output_type": "stream",
     "text": [
      "type : <class 'numpy.ndarray'>\n",
      "shape : (2, 3), dimension : 2, dtype : int32\n",
      "Array's Data : \n",
      " [[9 5 2]\n",
      " [8 7 6]]\n"
     ]
    }
   ],
   "source": [
    "a = np.random.randint(1, 10, (2, 3))\n",
    "pprint(a)"
   ]
  },
  {
   "cell_type": "code",
   "execution_count": 132,
   "id": "2b87830e",
   "metadata": {
    "ExecuteTime": {
     "end_time": "2023-09-25T06:42:11.054921Z",
     "start_time": "2023-09-25T06:42:11.035886Z"
    }
   },
   "outputs": [
    {
     "name": "stdout",
     "output_type": "stream",
     "text": [
      "type : <class 'numpy.ndarray'>\n",
      "shape : (3, 2, 1), dimension : 3, dtype : int32\n",
      "Array's Data : \n",
      " [[[9]\n",
      "  [5]]\n",
      "\n",
      " [[2]\n",
      "  [8]]\n",
      "\n",
      " [[7]\n",
      "  [6]]]\n"
     ]
    }
   ],
   "source": [
    "result = a.reshape((3, 2, 1))\n",
    "pprint(result)"
   ]
  },
  {
   "cell_type": "markdown",
   "id": "fb2c926d",
   "metadata": {},
   "source": [
    "**배열 요소 변경, 추가, 삽입 및 삭제는 resize, append, insert, delete 함수를 사용**\n",
    "- np.reshape와 np.resize 함수는 배열의 shape을 변경한다는 부분은 유사하다.\n",
    "- 차이점은 reshape은 배열 요소 수를 변경하지 않는다.\n",
    "- 반면, resize는 배열 요소수를 줄이거나 늘리는 함수이다."
   ]
  },
  {
   "cell_type": "code",
   "execution_count": 134,
   "id": "f7fab227",
   "metadata": {
    "ExecuteTime": {
     "end_time": "2023-09-25T06:46:08.669431Z",
     "start_time": "2023-09-25T06:46:08.651400Z"
    }
   },
   "outputs": [
    {
     "name": "stdout",
     "output_type": "stream",
     "text": [
      "type : <class 'numpy.ndarray'>\n",
      "shape : (2, 6), dimension : 2, dtype : int32\n",
      "Array's Data : \n",
      " [[5 4 4 8 3 9]\n",
      " [7 5 3 2 6 4]]\n",
      "12\n"
     ]
    }
   ],
   "source": [
    "a = np.random.randint(1, 10, (2, 6))\n",
    "pprint(a)\n",
    "print(a.size)"
   ]
  },
  {
   "cell_type": "code",
   "execution_count": 135,
   "id": "53f5b9ea",
   "metadata": {
    "ExecuteTime": {
     "end_time": "2023-09-25T06:46:54.799657Z",
     "start_time": "2023-09-25T06:46:54.779548Z"
    }
   },
   "outputs": [
    {
     "name": "stdout",
     "output_type": "stream",
     "text": [
      "type : <class 'numpy.ndarray'>\n",
      "shape : (6, 2), dimension : 2, dtype : int32\n",
      "Array's Data : \n",
      " [[5 4]\n",
      " [4 8]\n",
      " [3 9]\n",
      " [7 5]\n",
      " [3 2]\n",
      " [6 4]]\n"
     ]
    }
   ],
   "source": [
    "a.resize((6, 2))\n",
    "pprint(a)"
   ]
  },
  {
   "cell_type": "code",
   "execution_count": 136,
   "id": "b63ef8f6",
   "metadata": {
    "ExecuteTime": {
     "end_time": "2023-09-25T06:47:09.719897Z",
     "start_time": "2023-09-25T06:47:09.713895Z"
    }
   },
   "outputs": [
    {
     "name": "stdout",
     "output_type": "stream",
     "text": [
      "type : <class 'numpy.ndarray'>\n",
      "shape : (2, 6), dimension : 2, dtype : int32\n",
      "Array's Data : \n",
      " [[4 9 6 6 8 4]\n",
      " [8 7 8 4 4 7]]\n"
     ]
    }
   ],
   "source": [
    "a = np.random.randint(1, 10, (2, 6))\n",
    "pprint(a)"
   ]
  },
  {
   "cell_type": "code",
   "execution_count": 137,
   "id": "658bdf39",
   "metadata": {
    "ExecuteTime": {
     "end_time": "2023-09-25T06:48:02.683143Z",
     "start_time": "2023-09-25T06:48:02.666097Z"
    }
   },
   "outputs": [
    {
     "name": "stdout",
     "output_type": "stream",
     "text": [
      "type : <class 'numpy.ndarray'>\n",
      "shape : (2, 10), dimension : 2, dtype : int32\n",
      "Array's Data : \n",
      " [[4 9 6 6 8 4 8 7 8 4]\n",
      " [4 7 0 0 0 0 0 0 0 0]]\n"
     ]
    }
   ],
   "source": [
    "a.resize((2, 10))\n",
    "pprint(a) # 늘어난 요소는 0으로 채워진다."
   ]
  },
  {
   "cell_type": "code",
   "execution_count": 138,
   "id": "0aef445d",
   "metadata": {
    "ExecuteTime": {
     "end_time": "2023-09-25T06:48:19.795814Z",
     "start_time": "2023-09-25T06:48:19.777811Z"
    }
   },
   "outputs": [
    {
     "name": "stdout",
     "output_type": "stream",
     "text": [
      "type : <class 'numpy.ndarray'>\n",
      "shape : (2, 6), dimension : 2, dtype : int32\n",
      "Array's Data : \n",
      " [[6 5 9 6 3 6]\n",
      " [2 3 9 7 8 7]]\n"
     ]
    }
   ],
   "source": [
    "a = np.random.randint(1, 10, (2, 6))\n",
    "pprint(a)"
   ]
  },
  {
   "cell_type": "code",
   "execution_count": 139,
   "id": "6411ddc4",
   "metadata": {
    "ExecuteTime": {
     "end_time": "2023-09-25T06:48:49.071296Z",
     "start_time": "2023-09-25T06:48:49.057329Z"
    }
   },
   "outputs": [
    {
     "name": "stdout",
     "output_type": "stream",
     "text": [
      "type : <class 'numpy.ndarray'>\n",
      "shape : (3, 3), dimension : 2, dtype : int32\n",
      "Array's Data : \n",
      " [[6 5 9]\n",
      " [6 3 6]\n",
      " [2 3 9]]\n"
     ]
    }
   ],
   "source": [
    "a.resize((3, 3))\n",
    "pprint(a)"
   ]
  },
  {
   "cell_type": "markdown",
   "id": "d1cd9358",
   "metadata": {},
   "source": [
    "**append(arr, values, axis=None) : 배열의 끝에 값을 추가**"
   ]
  },
  {
   "cell_type": "code",
   "execution_count": 140,
   "id": "b130de67",
   "metadata": {
    "ExecuteTime": {
     "end_time": "2023-09-25T06:51:32.365611Z",
     "start_time": "2023-09-25T06:51:32.355602Z"
    }
   },
   "outputs": [
    {
     "name": "stdout",
     "output_type": "stream",
     "text": [
      "type : <class 'numpy.ndarray'>\n",
      "shape : (3, 3), dimension : 2, dtype : int32\n",
      "Array's Data : \n",
      " [[1 2 3]\n",
      " [4 5 6]\n",
      " [7 8 9]]\n",
      "type : <class 'numpy.ndarray'>\n",
      "shape : (3, 3), dimension : 2, dtype : int32\n",
      "Array's Data : \n",
      " [[10 11 12]\n",
      " [13 14 15]\n",
      " [16 17 18]]\n"
     ]
    }
   ],
   "source": [
    "a = np.arange(1, 10).reshape(3, 3)\n",
    "pprint(a)\n",
    "b = np.arange(10, 19).reshape(3, 3)\n",
    "pprint(b)"
   ]
  },
  {
   "cell_type": "code",
   "execution_count": 141,
   "id": "4abab004",
   "metadata": {
    "ExecuteTime": {
     "end_time": "2023-09-25T06:52:50.025429Z",
     "start_time": "2023-09-25T06:52:50.011428Z"
    }
   },
   "outputs": [
    {
     "name": "stdout",
     "output_type": "stream",
     "text": [
      "type : <class 'numpy.ndarray'>\n",
      "shape : (18,), dimension : 1, dtype : int32\n",
      "Array's Data : \n",
      " [ 1  2  3  4  5  6  7  8  9 10 11 12 13 14 15 16 17 18]\n"
     ]
    }
   ],
   "source": [
    "# axis를 지정하지 않으면 배열은 1차원 배열로 변형되어 결합된다.\n",
    "result = np.append(a, b)\n",
    "pprint(result)"
   ]
  },
  {
   "cell_type": "code",
   "execution_count": 142,
   "id": "5076b0ab",
   "metadata": {
    "ExecuteTime": {
     "end_time": "2023-09-25T06:53:14.227100Z",
     "start_time": "2023-09-25T06:53:14.216092Z"
    }
   },
   "outputs": [
    {
     "name": "stdout",
     "output_type": "stream",
     "text": [
      "type : <class 'numpy.ndarray'>\n",
      "shape : (3, 3), dimension : 2, dtype : int32\n",
      "Array's Data : \n",
      " [[1 2 3]\n",
      " [4 5 6]\n",
      " [7 8 9]]\n"
     ]
    }
   ],
   "source": [
    "pprint(a)"
   ]
  },
  {
   "cell_type": "code",
   "execution_count": 143,
   "id": "08e25794",
   "metadata": {
    "ExecuteTime": {
     "end_time": "2023-09-25T06:55:38.816379Z",
     "start_time": "2023-09-25T06:55:38.812421Z"
    }
   },
   "outputs": [
    {
     "name": "stdout",
     "output_type": "stream",
     "text": [
      "type : <class 'numpy.ndarray'>\n",
      "shape : (6, 3), dimension : 2, dtype : int32\n",
      "Array's Data : \n",
      " [[ 1  2  3]\n",
      " [ 4  5  6]\n",
      " [ 7  8  9]\n",
      " [10 11 12]\n",
      " [13 14 15]\n",
      " [16 17 18]]\n"
     ]
    }
   ],
   "source": [
    "# axis=0지정\n",
    "result = np.append(a, b, axis=0)\n",
    "pprint(result)"
   ]
  },
  {
   "cell_type": "code",
   "execution_count": null,
   "id": "23348956",
   "metadata": {},
   "outputs": [],
   "source": [
    "# axis=1 지정"
   ]
  },
  {
   "cell_type": "markdown",
   "id": "be459664",
   "metadata": {},
   "source": [
    "**insert(arr, obj, values, axis=None)**\n",
    "- axis를 지정하지 않으면 1차원 배열로 변환된다.\n",
    "- 추가할 방향을 axis로 지정한다."
   ]
  },
  {
   "cell_type": "code",
   "execution_count": 144,
   "id": "67b9f0ec",
   "metadata": {
    "ExecuteTime": {
     "end_time": "2023-09-25T07:12:13.464827Z",
     "start_time": "2023-09-25T07:12:13.458820Z"
    }
   },
   "outputs": [
    {
     "name": "stdout",
     "output_type": "stream",
     "text": [
      "type : <class 'numpy.ndarray'>\n",
      "shape : (3, 3), dimension : 2, dtype : int32\n",
      "Array's Data : \n",
      " [[1 2 3]\n",
      " [4 5 6]\n",
      " [7 8 9]]\n"
     ]
    }
   ],
   "source": [
    "a = np.arange(1, 10).reshape(3, 3)\n",
    "pprint(a)"
   ]
  },
  {
   "cell_type": "code",
   "execution_count": 145,
   "id": "7c969ab7",
   "metadata": {
    "ExecuteTime": {
     "end_time": "2023-09-25T07:13:13.810476Z",
     "start_time": "2023-09-25T07:13:13.801442Z"
    }
   },
   "outputs": [
    {
     "data": {
      "text/plain": [
       "array([  1, 999,   2,   3,   4,   5,   6,   7,   8,   9])"
      ]
     },
     "execution_count": 145,
     "metadata": {},
     "output_type": "execute_result"
    }
   ],
   "source": [
    "np.insert(a, 1, 999)"
   ]
  },
  {
   "cell_type": "code",
   "execution_count": 146,
   "id": "6945d10d",
   "metadata": {
    "ExecuteTime": {
     "end_time": "2023-09-25T07:14:44.487255Z",
     "start_time": "2023-09-25T07:14:44.475299Z"
    }
   },
   "outputs": [
    {
     "data": {
      "text/plain": [
       "array([[  1,   2,   3],\n",
       "       [999, 999, 999],\n",
       "       [  4,   5,   6],\n",
       "       [  7,   8,   9]])"
      ]
     },
     "execution_count": 146,
     "metadata": {},
     "output_type": "execute_result"
    }
   ],
   "source": [
    "# a 배열의 axis는 0 방향으로 1번 인덱스에 추가하는 작업\n",
    "# index가 1인 row에 값을 999가 추가되도록\n",
    "np.insert(a, 1, 999, axis=0)"
   ]
  },
  {
   "cell_type": "code",
   "execution_count": 147,
   "id": "8a652f71",
   "metadata": {
    "ExecuteTime": {
     "end_time": "2023-09-25T07:15:17.544263Z",
     "start_time": "2023-09-25T07:15:17.538235Z"
    }
   },
   "outputs": [
    {
     "data": {
      "text/plain": [
       "array([[  1, 999,   2,   3],\n",
       "       [  4, 999,   5,   6],\n",
       "       [  7, 999,   8,   9]])"
      ]
     },
     "execution_count": 147,
     "metadata": {},
     "output_type": "execute_result"
    }
   ],
   "source": [
    "np.insert(a, 1, 999, axis=1)"
   ]
  },
  {
   "cell_type": "markdown",
   "id": "85b0f18d",
   "metadata": {},
   "source": [
    "**delete(arr, obj, axis=None)**\n",
    "- axis를 지정하지 않으면 1차원 배열로 변환\n",
    "- 삭제할 방향을 axis로 지정\n",
    "- delete함수는 원본 배열을 변경하지 않으며 새로운 배열을 반환"
   ]
  },
  {
   "cell_type": "code",
   "execution_count": 148,
   "id": "7b18e46b",
   "metadata": {
    "ExecuteTime": {
     "end_time": "2023-09-25T07:16:54.091726Z",
     "start_time": "2023-09-25T07:16:54.072690Z"
    }
   },
   "outputs": [
    {
     "name": "stdout",
     "output_type": "stream",
     "text": [
      "type : <class 'numpy.ndarray'>\n",
      "shape : (3, 3), dimension : 2, dtype : int32\n",
      "Array's Data : \n",
      " [[1 2 3]\n",
      " [4 5 6]\n",
      " [7 8 9]]\n"
     ]
    }
   ],
   "source": [
    "a = np.arange(1, 10).reshape(3, 3)\n",
    "pprint(a)"
   ]
  },
  {
   "cell_type": "code",
   "execution_count": 149,
   "id": "82a6fe44",
   "metadata": {
    "ExecuteTime": {
     "end_time": "2023-09-25T07:17:36.075691Z",
     "start_time": "2023-09-25T07:17:36.068689Z"
    }
   },
   "outputs": [
    {
     "data": {
      "text/plain": [
       "array([1, 3, 4, 5, 6, 7, 8, 9])"
      ]
     },
     "execution_count": 149,
     "metadata": {},
     "output_type": "execute_result"
    }
   ],
   "source": [
    "# a배열의 일차원 배열로 변환하고 1번 index 삭제\n",
    "np.delete(a, 1)"
   ]
  },
  {
   "cell_type": "code",
   "execution_count": 150,
   "id": "688dccd6",
   "metadata": {
    "ExecuteTime": {
     "end_time": "2023-09-25T07:18:11.399570Z",
     "start_time": "2023-09-25T07:18:11.386600Z"
    }
   },
   "outputs": [
    {
     "data": {
      "text/plain": [
       "array([[1, 2, 3],\n",
       "       [7, 8, 9]])"
      ]
     },
     "execution_count": 150,
     "metadata": {},
     "output_type": "execute_result"
    }
   ],
   "source": [
    "np.delete(a, 1, axis=0)"
   ]
  },
  {
   "cell_type": "code",
   "execution_count": 151,
   "id": "12aee7b2",
   "metadata": {
    "ExecuteTime": {
     "end_time": "2023-09-25T07:18:29.921515Z",
     "start_time": "2023-09-25T07:18:29.903449Z"
    }
   },
   "outputs": [
    {
     "data": {
      "text/plain": [
       "array([[1, 3],\n",
       "       [4, 6],\n",
       "       [7, 9]])"
      ]
     },
     "execution_count": 151,
     "metadata": {},
     "output_type": "execute_result"
    }
   ],
   "source": [
    "np.delete(a, 1, axis=1)"
   ]
  },
  {
   "cell_type": "markdown",
   "id": "1978dced",
   "metadata": {},
   "source": [
    "**배열의 결합**\n",
    "- np.concatenate((arr1, arr2,...), axis=0)\n",
    "- np.vstack(tuple 형태) : 수직 방향 배열 결합, axis=0과 동일한 의미를 가진다.\n",
    "- np.hstack(tuple 형태) : 수평 방향 배열 결합, axis=1과 동일한 의미를 가진다."
   ]
  },
  {
   "cell_type": "code",
   "execution_count": 152,
   "id": "38d8adce",
   "metadata": {
    "ExecuteTime": {
     "end_time": "2023-09-25T07:23:32.625790Z",
     "start_time": "2023-09-25T07:23:32.608819Z"
    }
   },
   "outputs": [
    {
     "name": "stdout",
     "output_type": "stream",
     "text": [
      "type : <class 'numpy.ndarray'>\n",
      "shape : (2, 3), dimension : 2, dtype : int32\n",
      "Array's Data : \n",
      " [[1 2 3]\n",
      " [4 5 6]]\n",
      "type : <class 'numpy.ndarray'>\n",
      "shape : (2, 3), dimension : 2, dtype : int32\n",
      "Array's Data : \n",
      " [[ 7  8  9]\n",
      " [10 11 12]]\n"
     ]
    }
   ],
   "source": [
    "a = np.arange(1, 7).reshape((2, 3))\n",
    "pprint(a)\n",
    "b = np.arange(7, 13).reshape((2, 3))\n",
    "pprint(b)"
   ]
  },
  {
   "cell_type": "code",
   "execution_count": 153,
   "id": "00e22a83",
   "metadata": {
    "ExecuteTime": {
     "end_time": "2023-09-25T07:24:33.725310Z",
     "start_time": "2023-09-25T07:24:33.711314Z"
    }
   },
   "outputs": [
    {
     "name": "stdout",
     "output_type": "stream",
     "text": [
      "type : <class 'numpy.ndarray'>\n",
      "shape : (4, 3), dimension : 2, dtype : int32\n",
      "Array's Data : \n",
      " [[ 1  2  3]\n",
      " [ 4  5  6]\n",
      " [ 7  8  9]\n",
      " [10 11 12]]\n"
     ]
    }
   ],
   "source": [
    "result = np.concatenate((a, b)) # axis = 0, vstack\n",
    "pprint(result)"
   ]
  },
  {
   "cell_type": "code",
   "execution_count": 155,
   "id": "9533b82c",
   "metadata": {
    "ExecuteTime": {
     "end_time": "2023-09-25T07:25:10.519881Z",
     "start_time": "2023-09-25T07:25:10.502810Z"
    }
   },
   "outputs": [
    {
     "name": "stdout",
     "output_type": "stream",
     "text": [
      "type : <class 'numpy.ndarray'>\n",
      "shape : (4, 3), dimension : 2, dtype : int32\n",
      "Array's Data : \n",
      " [[ 1  2  3]\n",
      " [ 4  5  6]\n",
      " [ 7  8  9]\n",
      " [10 11 12]]\n"
     ]
    }
   ],
   "source": [
    "result = np.concatenate((a, b), axis=0) \n",
    "pprint(result)"
   ]
  },
  {
   "cell_type": "code",
   "execution_count": 156,
   "id": "f4d0f038",
   "metadata": {
    "ExecuteTime": {
     "end_time": "2023-09-25T07:25:45.986655Z",
     "start_time": "2023-09-25T07:25:45.979684Z"
    }
   },
   "outputs": [
    {
     "name": "stdout",
     "output_type": "stream",
     "text": [
      "type : <class 'numpy.ndarray'>\n",
      "shape : (2, 6), dimension : 2, dtype : int32\n",
      "Array's Data : \n",
      " [[ 1  2  3  7  8  9]\n",
      " [ 4  5  6 10 11 12]]\n"
     ]
    }
   ],
   "source": [
    "result = np.concatenate((a, b), axis=1) \n",
    "pprint(result)"
   ]
  },
  {
   "cell_type": "code",
   "execution_count": 157,
   "id": "7ba5c83b",
   "metadata": {
    "ExecuteTime": {
     "end_time": "2023-09-25T07:26:20.733957Z",
     "start_time": "2023-09-25T07:26:20.714849Z"
    }
   },
   "outputs": [
    {
     "data": {
      "text/plain": [
       "array([[ 1,  2,  3],\n",
       "       [ 4,  5,  6],\n",
       "       [ 7,  8,  9],\n",
       "       [10, 11, 12]])"
      ]
     },
     "execution_count": 157,
     "metadata": {},
     "output_type": "execute_result"
    }
   ],
   "source": [
    "np.vstack((a, b))"
   ]
  },
  {
   "cell_type": "code",
   "execution_count": 158,
   "id": "c05f8bb7",
   "metadata": {
    "ExecuteTime": {
     "end_time": "2023-09-25T07:26:45.512177Z",
     "start_time": "2023-09-25T07:26:45.492114Z"
    }
   },
   "outputs": [
    {
     "data": {
      "text/plain": [
       "array([[ 1,  2,  3],\n",
       "       [ 4,  5,  6],\n",
       "       [ 7,  8,  9],\n",
       "       [10, 11, 12],\n",
       "       [ 1,  2,  3],\n",
       "       [ 4,  5,  6],\n",
       "       [ 7,  8,  9],\n",
       "       [10, 11, 12]])"
      ]
     },
     "execution_count": 158,
     "metadata": {},
     "output_type": "execute_result"
    }
   ],
   "source": [
    "np.vstack((a, b, a, b))"
   ]
  },
  {
   "cell_type": "markdown",
   "id": "abf87b27",
   "metadata": {},
   "source": [
    "**배열분리 : 수직, 수평으로 분할하는 함수를 제공**\n",
    "- np.hsplit() : 지정한 배열을 수평(행)방향으로 분할\n",
    "- np.vsplit() : 지정한 배열을 수직(열)방향으로 분할"
   ]
  },
  {
   "cell_type": "code",
   "execution_count": 159,
   "id": "4f23976b",
   "metadata": {
    "ExecuteTime": {
     "end_time": "2023-09-25T07:29:00.891315Z",
     "start_time": "2023-09-25T07:29:00.873300Z"
    }
   },
   "outputs": [
    {
     "name": "stdout",
     "output_type": "stream",
     "text": [
      "type : <class 'numpy.ndarray'>\n",
      "shape : (4, 6), dimension : 2, dtype : int32\n",
      "Array's Data : \n",
      " [[ 1  2  3  4  5  6]\n",
      " [ 7  8  9 10 11 12]\n",
      " [13 14 15 16 17 18]\n",
      " [19 20 21 22 23 24]]\n"
     ]
    }
   ],
   "source": [
    "a = np.arange(1, 25).reshape((4, 6))\n",
    "pprint(a)"
   ]
  },
  {
   "cell_type": "code",
   "execution_count": 161,
   "id": "34e1a6a2",
   "metadata": {
    "ExecuteTime": {
     "end_time": "2023-09-25T07:31:14.990590Z",
     "start_time": "2023-09-25T07:31:14.974586Z"
    }
   },
   "outputs": [
    {
     "data": {
      "text/plain": [
       "[array([[ 1,  2,  3],\n",
       "        [ 7,  8,  9],\n",
       "        [13, 14, 15],\n",
       "        [19, 20, 21]]),\n",
       " array([[ 4,  5,  6],\n",
       "        [10, 11, 12],\n",
       "        [16, 17, 18],\n",
       "        [22, 23, 24]])]"
      ]
     },
     "execution_count": 161,
     "metadata": {},
     "output_type": "execute_result"
    }
   ],
   "source": [
    "result = np.hsplit(a, 2) # shape(2, 4, 3)\n",
    "result"
   ]
  },
  {
   "cell_type": "code",
   "execution_count": 162,
   "id": "dffff7bc",
   "metadata": {
    "ExecuteTime": {
     "end_time": "2023-09-25T07:32:46.454711Z",
     "start_time": "2023-09-25T07:32:46.437720Z"
    }
   },
   "outputs": [
    {
     "data": {
      "text/plain": [
       "[array([[ 1,  2],\n",
       "        [ 7,  8],\n",
       "        [13, 14],\n",
       "        [19, 20]]),\n",
       " array([[ 3,  4],\n",
       "        [ 9, 10],\n",
       "        [15, 16],\n",
       "        [21, 22]]),\n",
       " array([[ 5,  6],\n",
       "        [11, 12],\n",
       "        [17, 18],\n",
       "        [23, 24]])]"
      ]
     },
     "execution_count": 162,
     "metadata": {},
     "output_type": "execute_result"
    }
   ],
   "source": [
    "result = np.hsplit(a, 3) # 3, 4, 2\n",
    "result"
   ]
  },
  {
   "cell_type": "code",
   "execution_count": 163,
   "id": "7bdbebb5",
   "metadata": {
    "ExecuteTime": {
     "end_time": "2023-09-25T07:35:50.647589Z",
     "start_time": "2023-09-25T07:35:50.636623Z"
    }
   },
   "outputs": [
    {
     "data": {
      "text/plain": [
       "[array([[ 1],\n",
       "        [ 7],\n",
       "        [13],\n",
       "        [19]]),\n",
       " array([[ 2,  3],\n",
       "        [ 8,  9],\n",
       "        [14, 15],\n",
       "        [20, 21]]),\n",
       " array([[ 4,  5],\n",
       "        [10, 11],\n",
       "        [16, 17],\n",
       "        [22, 23]]),\n",
       " array([[ 6],\n",
       "        [12],\n",
       "        [18],\n",
       "        [24]])]"
      ]
     },
     "execution_count": 163,
     "metadata": {},
     "output_type": "execute_result"
    }
   ],
   "source": [
    "# 수평 방향으로 여러 구간(index)으로 분할\n",
    "# np.hsplit(arr, [indexs...])\n",
    "np.hsplit(a, [1, 3, 5]) # [:,:1], [:, 1:3], [:, 3:5], [:, 5:]"
   ]
  },
  {
   "cell_type": "markdown",
   "id": "ae36f26d",
   "metadata": {},
   "source": [
    "**배열 수직 분할 : np.vsplit(arr, 분할기준)**"
   ]
  },
  {
   "cell_type": "code",
   "execution_count": 164,
   "id": "df9de6c4",
   "metadata": {
    "ExecuteTime": {
     "end_time": "2023-09-25T07:37:07.401306Z",
     "start_time": "2023-09-25T07:37:07.394305Z"
    }
   },
   "outputs": [
    {
     "name": "stdout",
     "output_type": "stream",
     "text": [
      "type : <class 'numpy.ndarray'>\n",
      "shape : (4, 6), dimension : 2, dtype : int32\n",
      "Array's Data : \n",
      " [[ 1  2  3  4  5  6]\n",
      " [ 7  8  9 10 11 12]\n",
      " [13 14 15 16 17 18]\n",
      " [19 20 21 22 23 24]]\n"
     ]
    }
   ],
   "source": [
    "a = np.arange(1, 25).reshape((4, 6))\n",
    "pprint(a)"
   ]
  },
  {
   "cell_type": "code",
   "execution_count": 165,
   "id": "a6e2e7ed",
   "metadata": {
    "ExecuteTime": {
     "end_time": "2023-09-25T07:38:45.234014Z",
     "start_time": "2023-09-25T07:38:45.223014Z"
    }
   },
   "outputs": [
    {
     "data": {
      "text/plain": [
       "[array([[ 1,  2,  3,  4,  5,  6],\n",
       "        [ 7,  8,  9, 10, 11, 12]]),\n",
       " array([[13, 14, 15, 16, 17, 18],\n",
       "        [19, 20, 21, 22, 23, 24]])]"
      ]
     },
     "execution_count": 165,
     "metadata": {},
     "output_type": "execute_result"
    }
   ],
   "source": [
    "# 수직 방향으로 배열을 두 개로 분할\n",
    "np.vsplit(a, 2) # a[:2, :], a[2:, :], a(2, 2, 6)"
   ]
  },
  {
   "cell_type": "code",
   "execution_count": 166,
   "id": "a3a7cd80",
   "metadata": {
    "ExecuteTime": {
     "end_time": "2023-09-25T07:39:25.480004Z",
     "start_time": "2023-09-25T07:39:25.472042Z"
    }
   },
   "outputs": [
    {
     "data": {
      "text/plain": [
       "[array([[ 1,  2,  3,  4,  5,  6],\n",
       "        [ 7,  8,  9, 10, 11, 12]]),\n",
       " array([[13, 14, 15, 16, 17, 18],\n",
       "        [19, 20, 21, 22, 23, 24]])]"
      ]
     },
     "execution_count": 166,
     "metadata": {},
     "output_type": "execute_result"
    }
   ],
   "source": [
    "result = np.vsplit(a, 2)\n",
    "result"
   ]
  },
  {
   "cell_type": "code",
   "execution_count": 167,
   "id": "e2beb7de",
   "metadata": {
    "ExecuteTime": {
     "end_time": "2023-09-25T07:40:02.528638Z",
     "start_time": "2023-09-25T07:40:02.510576Z"
    }
   },
   "outputs": [
    {
     "data": {
      "text/plain": [
       "(2, 2, 6)"
      ]
     },
     "execution_count": 167,
     "metadata": {},
     "output_type": "execute_result"
    }
   ],
   "source": [
    "np.array(result).shape"
   ]
  },
  {
   "cell_type": "code",
   "execution_count": 168,
   "id": "4812083d",
   "metadata": {
    "ExecuteTime": {
     "end_time": "2023-09-25T07:40:33.629858Z",
     "start_time": "2023-09-25T07:40:33.611821Z"
    }
   },
   "outputs": [
    {
     "data": {
      "text/plain": [
       "[array([[1, 2, 3, 4, 5, 6]]),\n",
       " array([[ 7,  8,  9, 10, 11, 12]]),\n",
       " array([[13, 14, 15, 16, 17, 18]]),\n",
       " array([[19, 20, 21, 22, 23, 24]])]"
      ]
     },
     "execution_count": 168,
     "metadata": {},
     "output_type": "execute_result"
    }
   ],
   "source": [
    "result = np.vsplit(a, 4)\n",
    "result"
   ]
  },
  {
   "cell_type": "code",
   "execution_count": 169,
   "id": "352ced6e",
   "metadata": {
    "ExecuteTime": {
     "end_time": "2023-09-25T07:40:54.872218Z",
     "start_time": "2023-09-25T07:40:54.862218Z"
    }
   },
   "outputs": [
    {
     "data": {
      "text/plain": [
       "(4, 1, 6)"
      ]
     },
     "execution_count": 169,
     "metadata": {},
     "output_type": "execute_result"
    }
   ],
   "source": [
    "np.array(result).shape"
   ]
  },
  {
   "cell_type": "code",
   "execution_count": 170,
   "id": "fa878871",
   "metadata": {
    "ExecuteTime": {
     "end_time": "2023-09-25T07:41:56.863235Z",
     "start_time": "2023-09-25T07:41:56.854215Z"
    }
   },
   "outputs": [
    {
     "data": {
      "text/plain": [
       "[array([[1, 2, 3, 4, 5, 6]]),\n",
       " array([[ 7,  8,  9, 10, 11, 12],\n",
       "        [13, 14, 15, 16, 17, 18]]),\n",
       " array([[19, 20, 21, 22, 23, 24]])]"
      ]
     },
     "execution_count": 170,
     "metadata": {},
     "output_type": "execute_result"
    }
   ],
   "source": [
    "# row를 1, 2-3, 4분할\n",
    "np.vsplit(a, [1, 3])"
   ]
  },
  {
   "cell_type": "code",
   "execution_count": null,
   "id": "ab29869b",
   "metadata": {},
   "outputs": [],
   "source": []
  }
 ],
 "metadata": {
  "kernelspec": {
   "display_name": "Python 3 (ipykernel)",
   "language": "python",
   "name": "python3"
  },
  "language_info": {
   "codemirror_mode": {
    "name": "ipython",
    "version": 3
   },
   "file_extension": ".py",
   "mimetype": "text/x-python",
   "name": "python",
   "nbconvert_exporter": "python",
   "pygments_lexer": "ipython3",
   "version": "3.9.17"
  },
  "toc": {
   "base_numbering": 1,
   "nav_menu": {},
   "number_sections": true,
   "sideBar": true,
   "skip_h1_title": false,
   "title_cell": "Table of Contents",
   "title_sidebar": "Contents",
   "toc_cell": false,
   "toc_position": {
    "height": "calc(100% - 180px)",
    "left": "10px",
    "top": "150px",
    "width": "219.429px"
   },
   "toc_section_display": true,
   "toc_window_display": false
  },
  "varInspector": {
   "cols": {
    "lenName": 16,
    "lenType": 16,
    "lenVar": 40
   },
   "kernels_config": {
    "python": {
     "delete_cmd_postfix": "",
     "delete_cmd_prefix": "del ",
     "library": "var_list.py",
     "varRefreshCmd": "print(var_dic_list())"
    },
    "r": {
     "delete_cmd_postfix": ") ",
     "delete_cmd_prefix": "rm(",
     "library": "var_list.r",
     "varRefreshCmd": "cat(var_dic_list()) "
    }
   },
   "types_to_exclude": [
    "module",
    "function",
    "builtin_function_or_method",
    "instance",
    "_Feature"
   ],
   "window_display": false
  }
 },
 "nbformat": 4,
 "nbformat_minor": 5
}
