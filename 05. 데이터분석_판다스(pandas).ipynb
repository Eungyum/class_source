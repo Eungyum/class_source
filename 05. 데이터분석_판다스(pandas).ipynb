{
 "cells": [
  {
   "cell_type": "markdown",
   "id": "b6dd3394",
   "metadata": {},
   "source": [
    "# 판다스 데이터 분석\n",
    "- 데이터 처리를 위한 데이터 프레임을 제공\n",
    "- 데이터 구조는 시리즈와 데이터프레임 \n",
    "- 데이터 전처리와 데이터를 표형태로 처리할 때 우수한 성능을 제공"
   ]
  },
  {
   "cell_type": "markdown",
   "id": "ad2d5530",
   "metadata": {},
   "source": [
    "## 필수 라이브러리 로딩"
   ]
  },
  {
   "cell_type": "code",
   "execution_count": 1,
   "id": "1c29c115",
   "metadata": {
    "ExecuteTime": {
     "end_time": "2023-09-25T07:49:38.426472Z",
     "start_time": "2023-09-25T07:49:37.362244Z"
    }
   },
   "outputs": [],
   "source": [
    "import numpy as np\n",
    "import pandas as pd\n",
    "import matplotlib as mpl\n",
    "import matplotlib.pyplot as plt\n",
    "%matplotlib inline"
   ]
  },
  {
   "cell_type": "markdown",
   "id": "89b12362",
   "metadata": {},
   "source": [
    "## Series 객체\n",
    "- Numpy에서 제공하는 1차원 배열과 비슷하지만 각 데이터의 위치를 의미하는 index가 붙는다.\n",
    "- 구성요소 : 값(valuhe) + 인덱스(index)\n",
    "- 속성 : Series.index, Series.values, Series.dtype\n",
    "- 형식 : pd.Series(data, index)"
   ]
  },
  {
   "cell_type": "code",
   "execution_count": 3,
   "id": "3d8a02fa",
   "metadata": {
    "ExecuteTime": {
     "end_time": "2023-09-25T07:54:07.722733Z",
     "start_time": "2023-09-25T07:54:07.706737Z"
    }
   },
   "outputs": [
    {
     "data": {
      "text/plain": [
       "a    0.245450\n",
       "b   -2.266909\n",
       "c    0.567694\n",
       "d   -1.799768\n",
       "dtype: float64"
      ]
     },
     "execution_count": 3,
     "metadata": {},
     "output_type": "execute_result"
    }
   ],
   "source": [
    "ser = pd.Series(np.random.randn(4), index=['a', 'b', 'c', 'd'])\n",
    "ser"
   ]
  },
  {
   "cell_type": "code",
   "execution_count": 4,
   "id": "b33b3bc1",
   "metadata": {
    "ExecuteTime": {
     "end_time": "2023-09-25T08:11:00.830092Z",
     "start_time": "2023-09-25T08:11:00.821122Z"
    }
   },
   "outputs": [
    {
     "data": {
      "text/plain": [
       "Index(['a', 'b', 'c', 'd'], dtype='object')"
      ]
     },
     "execution_count": 4,
     "metadata": {},
     "output_type": "execute_result"
    }
   ],
   "source": [
    "ser.index"
   ]
  },
  {
   "cell_type": "code",
   "execution_count": 5,
   "id": "60487b4f",
   "metadata": {
    "ExecuteTime": {
     "end_time": "2023-09-25T08:11:10.325153Z",
     "start_time": "2023-09-25T08:11:10.314206Z"
    }
   },
   "outputs": [
    {
     "data": {
      "text/plain": [
       "array([ 0.24545026, -2.2669088 ,  0.56769437, -1.79976805])"
      ]
     },
     "execution_count": 5,
     "metadata": {},
     "output_type": "execute_result"
    }
   ],
   "source": [
    "ser.values"
   ]
  },
  {
   "cell_type": "code",
   "execution_count": 6,
   "id": "8182305c",
   "metadata": {
    "ExecuteTime": {
     "end_time": "2023-09-25T08:13:54.200746Z",
     "start_time": "2023-09-25T08:13:54.181787Z"
    }
   },
   "outputs": [
    {
     "data": {
      "text/plain": [
       "seoul      2000\n",
       "busan      2500\n",
       "daejeon    3000\n",
       "dtype: int64"
      ]
     },
     "execution_count": 6,
     "metadata": {},
     "output_type": "execute_result"
    }
   ],
   "source": [
    "# 파이썬의 자료구조 사전(dictionary)을 이용한 시리즈 객체 생성\n",
    "data = {'seoul':2000, 'busan':2500, 'daejeon':3000} \n",
    "# 사전에 key=index\n",
    "s1 = pd.Series(data)\n",
    "s1"
   ]
  },
  {
   "cell_type": "code",
   "execution_count": 7,
   "id": "d02efce8",
   "metadata": {
    "ExecuteTime": {
     "end_time": "2023-09-25T08:16:42.134864Z",
     "start_time": "2023-09-25T08:16:42.109818Z"
    }
   },
   "outputs": [
    {
     "data": {
      "text/plain": [
       "b    1.0\n",
       "c    2.0\n",
       "d    NaN\n",
       "a    0.0\n",
       "dtype: float64"
      ]
     },
     "execution_count": 7,
     "metadata": {},
     "output_type": "execute_result"
    }
   ],
   "source": [
    "data = {'a':0, 'b':1, 'c':2}\n",
    "s2 = pd.Series(data, index=['b', 'c', 'd', 'a'])\n",
    "s2"
   ]
  },
  {
   "cell_type": "code",
   "execution_count": 9,
   "id": "459c8153",
   "metadata": {
    "ExecuteTime": {
     "end_time": "2023-09-25T08:18:30.036169Z",
     "start_time": "2023-09-25T08:18:30.015178Z"
    }
   },
   "outputs": [
    {
     "data": {
      "text/plain": [
       "a    7\n",
       "b    7\n",
       "c    7\n",
       "dtype: int64"
      ]
     },
     "execution_count": 9,
     "metadata": {},
     "output_type": "execute_result"
    }
   ],
   "source": [
    "pd.Series(7, index=['a', 'b', 'c'])"
   ]
  },
  {
   "cell_type": "code",
   "execution_count": 10,
   "id": "00933d42",
   "metadata": {
    "ExecuteTime": {
     "end_time": "2023-09-25T08:19:00.754571Z",
     "start_time": "2023-09-25T08:19:00.740599Z"
    }
   },
   "outputs": [
    {
     "data": {
      "text/plain": [
       "seoul      2000\n",
       "busan      2500\n",
       "daejeon    3000\n",
       "dtype: int64"
      ]
     },
     "execution_count": 10,
     "metadata": {},
     "output_type": "execute_result"
    }
   ],
   "source": [
    "s1"
   ]
  },
  {
   "cell_type": "code",
   "execution_count": 11,
   "id": "d22afe7c",
   "metadata": {
    "ExecuteTime": {
     "end_time": "2023-09-25T08:19:05.426719Z",
     "start_time": "2023-09-25T08:19:05.419753Z"
    }
   },
   "outputs": [
    {
     "data": {
      "text/plain": [
       "b    1.0\n",
       "c    2.0\n",
       "d    NaN\n",
       "a    0.0\n",
       "dtype: float64"
      ]
     },
     "execution_count": 11,
     "metadata": {},
     "output_type": "execute_result"
    }
   ],
   "source": [
    "s2"
   ]
  },
  {
   "cell_type": "code",
   "execution_count": 12,
   "id": "48039ee3",
   "metadata": {
    "ExecuteTime": {
     "end_time": "2023-09-25T08:19:22.286255Z",
     "start_time": "2023-09-25T08:19:22.270335Z"
    }
   },
   "outputs": [
    {
     "data": {
      "text/plain": [
       "a    0.245450\n",
       "b   -2.266909\n",
       "c    0.567694\n",
       "d   -1.799768\n",
       "dtype: float64"
      ]
     },
     "execution_count": 12,
     "metadata": {},
     "output_type": "execute_result"
    }
   ],
   "source": [
    "ser"
   ]
  },
  {
   "cell_type": "code",
   "execution_count": 13,
   "id": "bd152ee9",
   "metadata": {
    "ExecuteTime": {
     "end_time": "2023-09-25T08:19:50.337054Z",
     "start_time": "2023-09-25T08:19:50.331084Z"
    }
   },
   "outputs": [
    {
     "data": {
      "text/plain": [
       "0.24545026496040417"
      ]
     },
     "execution_count": 13,
     "metadata": {},
     "output_type": "execute_result"
    }
   ],
   "source": [
    "ser[0]"
   ]
  },
  {
   "cell_type": "code",
   "execution_count": 14,
   "id": "aad6adcc",
   "metadata": {
    "ExecuteTime": {
     "end_time": "2023-09-25T08:20:19.289799Z",
     "start_time": "2023-09-25T08:20:19.269768Z"
    }
   },
   "outputs": [
    {
     "data": {
      "text/plain": [
       "a    0.245450\n",
       "b   -2.266909\n",
       "c    0.567694\n",
       "dtype: float64"
      ]
     },
     "execution_count": 14,
     "metadata": {},
     "output_type": "execute_result"
    }
   ],
   "source": [
    "ser[:3]"
   ]
  },
  {
   "cell_type": "code",
   "execution_count": 15,
   "id": "db707591",
   "metadata": {
    "ExecuteTime": {
     "end_time": "2023-09-25T08:20:59.530938Z",
     "start_time": "2023-09-25T08:20:59.524910Z"
    }
   },
   "outputs": [
    {
     "data": {
      "text/plain": [
       "0.24545026496040417"
      ]
     },
     "execution_count": 15,
     "metadata": {},
     "output_type": "execute_result"
    }
   ],
   "source": [
    "# 라벨링된 인덱스를 사용할 경우\n",
    "ser['a']"
   ]
  },
  {
   "cell_type": "code",
   "execution_count": 16,
   "id": "19d54b24",
   "metadata": {
    "ExecuteTime": {
     "end_time": "2023-09-25T08:21:21.055976Z",
     "start_time": "2023-09-25T08:21:21.034972Z"
    }
   },
   "outputs": [
    {
     "data": {
      "text/plain": [
       "a    0.245450\n",
       "b   -2.266909\n",
       "c    0.567694\n",
       "d    7.000000\n",
       "dtype: float64"
      ]
     },
     "execution_count": 16,
     "metadata": {},
     "output_type": "execute_result"
    }
   ],
   "source": [
    "ser['d'] = 7\n",
    "ser"
   ]
  },
  {
   "cell_type": "code",
   "execution_count": 18,
   "id": "d81c3282",
   "metadata": {
    "ExecuteTime": {
     "end_time": "2023-09-25T08:22:09.482242Z",
     "start_time": "2023-09-25T08:22:09.465241Z"
    }
   },
   "outputs": [
    {
     "data": {
      "text/plain": [
       "a    0.245450\n",
       "b   -2.266909\n",
       "c    0.567694\n",
       "dtype: float64"
      ]
     },
     "execution_count": 18,
     "metadata": {},
     "output_type": "execute_result"
    }
   ],
   "source": [
    "ser[:3] # 0, 1, 2"
   ]
  },
  {
   "cell_type": "code",
   "execution_count": 19,
   "id": "9fdb8cf4",
   "metadata": {
    "ExecuteTime": {
     "end_time": "2023-09-25T08:22:20.475635Z",
     "start_time": "2023-09-25T08:22:20.462635Z"
    }
   },
   "outputs": [
    {
     "data": {
      "text/plain": [
       "a    0.245450\n",
       "b   -2.266909\n",
       "c    0.567694\n",
       "dtype: float64"
      ]
     },
     "execution_count": 19,
     "metadata": {},
     "output_type": "execute_result"
    }
   ],
   "source": [
    "ser['a':'c']"
   ]
  },
  {
   "cell_type": "code",
   "execution_count": 20,
   "id": "b15da6d6",
   "metadata": {
    "ExecuteTime": {
     "end_time": "2023-09-25T08:22:50.076234Z",
     "start_time": "2023-09-25T08:22:50.061227Z"
    }
   },
   "outputs": [
    {
     "data": {
      "text/plain": [
       "a     0.490901\n",
       "b    -4.533818\n",
       "c     1.135389\n",
       "d    14.000000\n",
       "dtype: float64"
      ]
     },
     "execution_count": 20,
     "metadata": {},
     "output_type": "execute_result"
    }
   ],
   "source": [
    "ser + ser"
   ]
  },
  {
   "cell_type": "code",
   "execution_count": 21,
   "id": "66a1ee64",
   "metadata": {
    "ExecuteTime": {
     "end_time": "2023-09-25T08:23:10.680615Z",
     "start_time": "2023-09-25T08:23:10.665630Z"
    }
   },
   "outputs": [
    {
     "data": {
      "text/plain": [
       "a     0.490901\n",
       "b    -4.533818\n",
       "c     1.135389\n",
       "d    14.000000\n",
       "dtype: float64"
      ]
     },
     "execution_count": 21,
     "metadata": {},
     "output_type": "execute_result"
    }
   ],
   "source": [
    "ser * 2"
   ]
  },
  {
   "cell_type": "code",
   "execution_count": 22,
   "id": "2a1fc8e3",
   "metadata": {
    "ExecuteTime": {
     "end_time": "2023-09-25T08:24:06.142111Z",
     "start_time": "2023-09-25T08:24:06.114186Z"
    }
   },
   "outputs": [
    {
     "data": {
      "text/plain": [
       "a         NaN\n",
       "b   -4.533818\n",
       "c    1.135389\n",
       "d         NaN\n",
       "dtype: float64"
      ]
     },
     "execution_count": 22,
     "metadata": {},
     "output_type": "execute_result"
    }
   ],
   "source": [
    "ser[1:] + ser[:-1]"
   ]
  },
  {
   "cell_type": "code",
   "execution_count": 23,
   "id": "03e72c0c",
   "metadata": {
    "ExecuteTime": {
     "end_time": "2023-09-25T08:25:36.559060Z",
     "start_time": "2023-09-25T08:25:36.542060Z"
    }
   },
   "outputs": [
    {
     "data": {
      "text/plain": [
       "0   -0.933016\n",
       "1   -1.130038\n",
       "2    0.255220\n",
       "3    1.152452\n",
       "4   -0.255089\n",
       "Name: seoul, dtype: float64"
      ]
     },
     "execution_count": 23,
     "metadata": {},
     "output_type": "execute_result"
    }
   ],
   "source": [
    "ser = pd.Series(np.random.randn(5), name=\"seoul\")\n",
    "ser"
   ]
  },
  {
   "cell_type": "code",
   "execution_count": 24,
   "id": "183890b6",
   "metadata": {
    "ExecuteTime": {
     "end_time": "2023-09-25T08:26:25.049570Z",
     "start_time": "2023-09-25T08:26:25.028568Z"
    }
   },
   "outputs": [
    {
     "data": {
      "text/plain": [
       "0   -0.933016\n",
       "1   -1.130038\n",
       "2    0.255220\n",
       "3    1.152452\n",
       "4   -0.255089\n",
       "Name: busan, dtype: float64"
      ]
     },
     "execution_count": 24,
     "metadata": {},
     "output_type": "execute_result"
    }
   ],
   "source": [
    "ser1 = ser.rename('busan')\n",
    "ser1"
   ]
  },
  {
   "cell_type": "code",
   "execution_count": 25,
   "id": "b4e0cb61",
   "metadata": {
    "ExecuteTime": {
     "end_time": "2023-09-25T08:26:44.115378Z",
     "start_time": "2023-09-25T08:26:44.109372Z"
    }
   },
   "outputs": [
    {
     "data": {
      "text/plain": [
       "'busan'"
      ]
     },
     "execution_count": 25,
     "metadata": {},
     "output_type": "execute_result"
    }
   ],
   "source": [
    "ser1.name"
   ]
  },
  {
   "cell_type": "code",
   "execution_count": 26,
   "id": "ac879816",
   "metadata": {
    "ExecuteTime": {
     "end_time": "2023-09-25T08:28:15.690977Z",
     "start_time": "2023-09-25T08:28:15.685949Z"
    }
   },
   "outputs": [
    {
     "data": {
      "text/plain": [
       "0   -0.933016\n",
       "1   -1.130038\n",
       "2    0.255220\n",
       "3    1.152452\n",
       "4   -0.255089\n",
       "Name: seoul, dtype: float64"
      ]
     },
     "execution_count": 26,
     "metadata": {},
     "output_type": "execute_result"
    }
   ],
   "source": [
    "ser"
   ]
  },
  {
   "cell_type": "code",
   "execution_count": 27,
   "id": "f454cb7b",
   "metadata": {
    "ExecuteTime": {
     "end_time": "2023-09-25T08:28:56.995201Z",
     "start_time": "2023-09-25T08:28:56.987201Z"
    }
   },
   "outputs": [
    {
     "data": {
      "text/plain": [
       "a    0.066047\n",
       "b   -0.282950\n",
       "c    2.642681\n",
       "d    0.135873\n",
       "dtype: float64"
      ]
     },
     "execution_count": 27,
     "metadata": {},
     "output_type": "execute_result"
    }
   ],
   "source": [
    "ser = pd.Series(np.random.randn(4), index=['a', 'b', 'c', 'd'])\n",
    "ser"
   ]
  },
  {
   "cell_type": "code",
   "execution_count": 28,
   "id": "01c18da8",
   "metadata": {
    "ExecuteTime": {
     "end_time": "2023-09-25T08:30:02.790299Z",
     "start_time": "2023-09-25T08:30:02.778331Z"
    }
   },
   "outputs": [
    {
     "data": {
      "text/plain": [
       "a    0.066047\n",
       "b   -0.282950\n",
       "c    2.642681\n",
       "d    0.135873\n",
       "dtype: float64"
      ]
     },
     "execution_count": 28,
     "metadata": {},
     "output_type": "execute_result"
    }
   ],
   "source": [
    "# in, not in\n",
    "# 사전을 바로 시리즈 객체로 변환이 가능하다.\n",
    "# 사전에 키가 시리즈 인덱스가 된다.\n",
    "ser"
   ]
  },
  {
   "cell_type": "code",
   "execution_count": 29,
   "id": "2ddd90fc",
   "metadata": {
    "ExecuteTime": {
     "end_time": "2023-09-25T08:30:32.385202Z",
     "start_time": "2023-09-25T08:30:32.374179Z"
    }
   },
   "outputs": [
    {
     "data": {
      "text/plain": [
       "True"
      ]
     },
     "execution_count": 29,
     "metadata": {},
     "output_type": "execute_result"
    }
   ],
   "source": [
    "'a' in ser"
   ]
  },
  {
   "cell_type": "code",
   "execution_count": 30,
   "id": "9e3fcb42",
   "metadata": {
    "ExecuteTime": {
     "end_time": "2023-09-25T08:30:51.596164Z",
     "start_time": "2023-09-25T08:30:51.577190Z"
    }
   },
   "outputs": [
    {
     "data": {
      "text/plain": [
       "True"
      ]
     },
     "execution_count": 30,
     "metadata": {},
     "output_type": "execute_result"
    }
   ],
   "source": [
    "'f' not in ser"
   ]
  },
  {
   "cell_type": "code",
   "execution_count": 31,
   "id": "20dc5ac4",
   "metadata": {
    "ExecuteTime": {
     "end_time": "2023-09-25T08:33:17.455037Z",
     "start_time": "2023-09-25T08:33:17.448047Z"
    },
    "scrolled": true
   },
   "outputs": [
    {
     "name": "stdout",
     "output_type": "stream",
     "text": [
      "a : 0\n",
      "b : 0\n",
      "c : 2\n",
      "d : 0\n"
     ]
    }
   ],
   "source": [
    "# 시리즈 객체를 사전취급가능\n",
    "# 사전.keys()\n",
    "# 사전.values()\n",
    "# 사전.items()\n",
    "\n",
    "for key, value in ser.items():\n",
    "    print(\"%s : %d\" % (key, value))"
   ]
  },
  {
   "cell_type": "code",
   "execution_count": 32,
   "id": "9feb4ef3",
   "metadata": {
    "ExecuteTime": {
     "end_time": "2023-09-25T08:35:06.578076Z",
     "start_time": "2023-09-25T08:35:06.567076Z"
    }
   },
   "outputs": [
    {
     "data": {
      "text/plain": [
       "a    0.066047\n",
       "b   -0.282950\n",
       "d    0.135873\n",
       "dtype: float64"
      ]
     },
     "execution_count": 32,
     "metadata": {},
     "output_type": "execute_result"
    }
   ],
   "source": [
    "# del 사전객체[키]\n",
    "del ser['c']\n",
    "ser"
   ]
  },
  {
   "cell_type": "markdown",
   "id": "4baecb1a",
   "metadata": {},
   "source": [
    "**DataFrame : 데이터프레임(2차원 표 형태의 자료)**\n",
    "- pd.DataFrame(data, index, columns)\n",
    "- 여러 개의 Series가 결합된 형태"
   ]
  },
  {
   "cell_type": "code",
   "execution_count": 33,
   "id": "7c042f7d",
   "metadata": {
    "ExecuteTime": {
     "end_time": "2023-09-25T08:39:05.646173Z",
     "start_time": "2023-09-25T08:39:05.631202Z"
    }
   },
   "outputs": [
    {
     "data": {
      "text/html": [
       "<div>\n",
       "<style scoped>\n",
       "    .dataframe tbody tr th:only-of-type {\n",
       "        vertical-align: middle;\n",
       "    }\n",
       "\n",
       "    .dataframe tbody tr th {\n",
       "        vertical-align: top;\n",
       "    }\n",
       "\n",
       "    .dataframe thead th {\n",
       "        text-align: right;\n",
       "    }\n",
       "</style>\n",
       "<table border=\"1\" class=\"dataframe\">\n",
       "  <thead>\n",
       "    <tr style=\"text-align: right;\">\n",
       "      <th></th>\n",
       "      <th>0</th>\n",
       "      <th>1</th>\n",
       "      <th>2</th>\n",
       "    </tr>\n",
       "  </thead>\n",
       "  <tbody>\n",
       "    <tr>\n",
       "      <th>0</th>\n",
       "      <td>10</td>\n",
       "      <td>20</td>\n",
       "      <td>30</td>\n",
       "    </tr>\n",
       "    <tr>\n",
       "      <th>1</th>\n",
       "      <td>40</td>\n",
       "      <td>50</td>\n",
       "      <td>60</td>\n",
       "    </tr>\n",
       "    <tr>\n",
       "      <th>2</th>\n",
       "      <td>70</td>\n",
       "      <td>80</td>\n",
       "      <td>90</td>\n",
       "    </tr>\n",
       "  </tbody>\n",
       "</table>\n",
       "</div>"
      ],
      "text/plain": [
       "    0   1   2\n",
       "0  10  20  30\n",
       "1  40  50  60\n",
       "2  70  80  90"
      ]
     },
     "execution_count": 33,
     "metadata": {},
     "output_type": "execute_result"
    }
   ],
   "source": [
    "a = pd.DataFrame([\n",
    "    [10, 20, 30],\n",
    "    [40, 50, 60],\n",
    "    [70, 80, 90]\n",
    "])\n",
    "a"
   ]
  },
  {
   "cell_type": "code",
   "execution_count": 34,
   "id": "cace1757",
   "metadata": {
    "ExecuteTime": {
     "end_time": "2023-09-25T08:39:28.894809Z",
     "start_time": "2023-09-25T08:39:28.890815Z"
    }
   },
   "outputs": [
    {
     "name": "stdout",
     "output_type": "stream",
     "text": [
      "<class 'pandas.core.frame.DataFrame'>\n"
     ]
    }
   ],
   "source": [
    "print(type(a))"
   ]
  },
  {
   "cell_type": "code",
   "execution_count": 35,
   "id": "82a5c0d5",
   "metadata": {
    "ExecuteTime": {
     "end_time": "2023-09-25T08:40:00.639779Z",
     "start_time": "2023-09-25T08:40:00.629781Z"
    }
   },
   "outputs": [
    {
     "data": {
      "text/plain": [
       "(3, 3)"
      ]
     },
     "execution_count": 35,
     "metadata": {},
     "output_type": "execute_result"
    }
   ],
   "source": [
    "a.shape"
   ]
  },
  {
   "cell_type": "code",
   "execution_count": 36,
   "id": "7c46b278",
   "metadata": {
    "ExecuteTime": {
     "end_time": "2023-09-25T08:42:34.037682Z",
     "start_time": "2023-09-25T08:42:34.027719Z"
    }
   },
   "outputs": [
    {
     "data": {
      "text/html": [
       "<div>\n",
       "<style scoped>\n",
       "    .dataframe tbody tr th:only-of-type {\n",
       "        vertical-align: middle;\n",
       "    }\n",
       "\n",
       "    .dataframe tbody tr th {\n",
       "        vertical-align: top;\n",
       "    }\n",
       "\n",
       "    .dataframe thead th {\n",
       "        text-align: right;\n",
       "    }\n",
       "</style>\n",
       "<table border=\"1\" class=\"dataframe\">\n",
       "  <thead>\n",
       "    <tr style=\"text-align: right;\">\n",
       "      <th></th>\n",
       "      <th>weight</th>\n",
       "      <th>height</th>\n",
       "      <th>gender</th>\n",
       "    </tr>\n",
       "  </thead>\n",
       "  <tbody>\n",
       "    <tr>\n",
       "      <th>0</th>\n",
       "      <td>70.0</td>\n",
       "      <td>170</td>\n",
       "      <td>f</td>\n",
       "    </tr>\n",
       "    <tr>\n",
       "      <th>1</th>\n",
       "      <td>70.4</td>\n",
       "      <td>180</td>\n",
       "      <td>m</td>\n",
       "    </tr>\n",
       "    <tr>\n",
       "      <th>2</th>\n",
       "      <td>65.5</td>\n",
       "      <td>155</td>\n",
       "      <td>m</td>\n",
       "    </tr>\n",
       "    <tr>\n",
       "      <th>3</th>\n",
       "      <td>45.9</td>\n",
       "      <td>143</td>\n",
       "      <td>f</td>\n",
       "    </tr>\n",
       "    <tr>\n",
       "      <th>4</th>\n",
       "      <td>51.2</td>\n",
       "      <td>154</td>\n",
       "      <td>f</td>\n",
       "    </tr>\n",
       "  </tbody>\n",
       "</table>\n",
       "</div>"
      ],
      "text/plain": [
       "   weight  height gender\n",
       "0    70.0     170      f\n",
       "1    70.4     180      m\n",
       "2    65.5     155      m\n",
       "3    45.9     143      f\n",
       "4    51.2     154      f"
      ]
     },
     "execution_count": 36,
     "metadata": {},
     "output_type": "execute_result"
    }
   ],
   "source": [
    "# 데이터사전을 이용한 데이터프레임 생성\n",
    "df = pd.DataFrame({\n",
    "    'weight':[70, 70.4, 65.5, 45.9, 51.2],\n",
    "    'height':[170, 180, 155, 143, 154],\n",
    "    'gender':[\"f\", \"m\", \"m\", \"f\", \"f\"]\n",
    "})\n",
    "df"
   ]
  },
  {
   "cell_type": "code",
   "execution_count": 37,
   "id": "0f8f3156",
   "metadata": {
    "ExecuteTime": {
     "end_time": "2023-09-25T08:44:15.738982Z",
     "start_time": "2023-09-25T08:44:15.730011Z"
    }
   },
   "outputs": [
    {
     "name": "stdout",
     "output_type": "stream",
     "text": [
      "<class 'pandas.core.frame.DataFrame'>\n",
      "<class 'pandas.core.series.Series'>\n"
     ]
    }
   ],
   "source": [
    "print(type(df))\n",
    "print(type(df['weight']))"
   ]
  },
  {
   "cell_type": "code",
   "execution_count": 38,
   "id": "557c4387",
   "metadata": {
    "ExecuteTime": {
     "end_time": "2023-09-25T08:44:47.622825Z",
     "start_time": "2023-09-25T08:44:47.603827Z"
    }
   },
   "outputs": [
    {
     "data": {
      "text/plain": [
       "0    70.0\n",
       "1    70.4\n",
       "2    65.5\n",
       "3    45.9\n",
       "4    51.2\n",
       "Name: weight, dtype: float64"
      ]
     },
     "execution_count": 38,
     "metadata": {},
     "output_type": "execute_result"
    }
   ],
   "source": [
    "df['weight']"
   ]
  },
  {
   "cell_type": "code",
   "execution_count": 39,
   "id": "056e73d4",
   "metadata": {
    "ExecuteTime": {
     "end_time": "2023-09-25T08:45:33.229905Z",
     "start_time": "2023-09-25T08:45:33.207891Z"
    }
   },
   "outputs": [
    {
     "data": {
      "text/html": [
       "<div>\n",
       "<style scoped>\n",
       "    .dataframe tbody tr th:only-of-type {\n",
       "        vertical-align: middle;\n",
       "    }\n",
       "\n",
       "    .dataframe tbody tr th {\n",
       "        vertical-align: top;\n",
       "    }\n",
       "\n",
       "    .dataframe thead th {\n",
       "        text-align: right;\n",
       "    }\n",
       "</style>\n",
       "<table border=\"1\" class=\"dataframe\">\n",
       "  <thead>\n",
       "    <tr style=\"text-align: right;\">\n",
       "      <th></th>\n",
       "      <th>weight</th>\n",
       "      <th>gender</th>\n",
       "    </tr>\n",
       "  </thead>\n",
       "  <tbody>\n",
       "    <tr>\n",
       "      <th>0</th>\n",
       "      <td>70.0</td>\n",
       "      <td>f</td>\n",
       "    </tr>\n",
       "    <tr>\n",
       "      <th>1</th>\n",
       "      <td>70.4</td>\n",
       "      <td>m</td>\n",
       "    </tr>\n",
       "    <tr>\n",
       "      <th>2</th>\n",
       "      <td>65.5</td>\n",
       "      <td>m</td>\n",
       "    </tr>\n",
       "    <tr>\n",
       "      <th>3</th>\n",
       "      <td>45.9</td>\n",
       "      <td>f</td>\n",
       "    </tr>\n",
       "    <tr>\n",
       "      <th>4</th>\n",
       "      <td>51.2</td>\n",
       "      <td>f</td>\n",
       "    </tr>\n",
       "  </tbody>\n",
       "</table>\n",
       "</div>"
      ],
      "text/plain": [
       "   weight gender\n",
       "0    70.0      f\n",
       "1    70.4      m\n",
       "2    65.5      m\n",
       "3    45.9      f\n",
       "4    51.2      f"
      ]
     },
     "execution_count": 39,
     "metadata": {},
     "output_type": "execute_result"
    }
   ],
   "source": [
    "df[['weight', 'gender']]"
   ]
  },
  {
   "cell_type": "code",
   "execution_count": 41,
   "id": "efa11040",
   "metadata": {
    "ExecuteTime": {
     "end_time": "2023-09-25T08:49:02.522708Z",
     "start_time": "2023-09-25T08:49:02.509738Z"
    }
   },
   "outputs": [
    {
     "data": {
      "text/html": [
       "<div>\n",
       "<style scoped>\n",
       "    .dataframe tbody tr th:only-of-type {\n",
       "        vertical-align: middle;\n",
       "    }\n",
       "\n",
       "    .dataframe tbody tr th {\n",
       "        vertical-align: top;\n",
       "    }\n",
       "\n",
       "    .dataframe thead th {\n",
       "        text-align: right;\n",
       "    }\n",
       "</style>\n",
       "<table border=\"1\" class=\"dataframe\">\n",
       "  <thead>\n",
       "    <tr style=\"text-align: right;\">\n",
       "      <th></th>\n",
       "      <th>weight</th>\n",
       "      <th>height</th>\n",
       "      <th>gender</th>\n",
       "    </tr>\n",
       "  </thead>\n",
       "  <tbody>\n",
       "    <tr>\n",
       "      <th>0</th>\n",
       "      <td>70.0</td>\n",
       "      <td>170</td>\n",
       "      <td>f</td>\n",
       "    </tr>\n",
       "    <tr>\n",
       "      <th>1</th>\n",
       "      <td>70.4</td>\n",
       "      <td>180</td>\n",
       "      <td>m</td>\n",
       "    </tr>\n",
       "  </tbody>\n",
       "</table>\n",
       "</div>"
      ],
      "text/plain": [
       "   weight  height gender\n",
       "0    70.0     170      f\n",
       "1    70.4     180      m"
      ]
     },
     "execution_count": 41,
     "metadata": {},
     "output_type": "execute_result"
    }
   ],
   "source": [
    "# height값이 160이상인 자료만 추출\n",
    "#df['height'] >= 160\n",
    "df[df['height'] >= 160]"
   ]
  },
  {
   "cell_type": "code",
   "execution_count": 42,
   "id": "ec6dec74",
   "metadata": {
    "ExecuteTime": {
     "end_time": "2023-09-25T08:50:06.210186Z",
     "start_time": "2023-09-25T08:50:06.193111Z"
    }
   },
   "outputs": [
    {
     "data": {
      "text/html": [
       "<div>\n",
       "<style scoped>\n",
       "    .dataframe tbody tr th:only-of-type {\n",
       "        vertical-align: middle;\n",
       "    }\n",
       "\n",
       "    .dataframe tbody tr th {\n",
       "        vertical-align: top;\n",
       "    }\n",
       "\n",
       "    .dataframe thead th {\n",
       "        text-align: right;\n",
       "    }\n",
       "</style>\n",
       "<table border=\"1\" class=\"dataframe\">\n",
       "  <thead>\n",
       "    <tr style=\"text-align: right;\">\n",
       "      <th></th>\n",
       "      <th>weight</th>\n",
       "      <th>height</th>\n",
       "      <th>gender</th>\n",
       "    </tr>\n",
       "  </thead>\n",
       "  <tbody>\n",
       "    <tr>\n",
       "      <th>0</th>\n",
       "      <td>70.0</td>\n",
       "      <td>170</td>\n",
       "      <td>f</td>\n",
       "    </tr>\n",
       "    <tr>\n",
       "      <th>3</th>\n",
       "      <td>45.9</td>\n",
       "      <td>143</td>\n",
       "      <td>f</td>\n",
       "    </tr>\n",
       "    <tr>\n",
       "      <th>4</th>\n",
       "      <td>51.2</td>\n",
       "      <td>154</td>\n",
       "      <td>f</td>\n",
       "    </tr>\n",
       "  </tbody>\n",
       "</table>\n",
       "</div>"
      ],
      "text/plain": [
       "   weight  height gender\n",
       "0    70.0     170      f\n",
       "3    45.9     143      f\n",
       "4    51.2     154      f"
      ]
     },
     "execution_count": 42,
     "metadata": {},
     "output_type": "execute_result"
    }
   ],
   "source": [
    "# 성별이 여자인 자료만 추출\n",
    "df[df['gender'] == 'f']"
   ]
  },
  {
   "cell_type": "code",
   "execution_count": 43,
   "id": "a115575a",
   "metadata": {
    "ExecuteTime": {
     "end_time": "2023-09-25T08:50:38.330460Z",
     "start_time": "2023-09-25T08:50:38.322455Z"
    }
   },
   "outputs": [
    {
     "data": {
      "text/html": [
       "<div>\n",
       "<style scoped>\n",
       "    .dataframe tbody tr th:only-of-type {\n",
       "        vertical-align: middle;\n",
       "    }\n",
       "\n",
       "    .dataframe tbody tr th {\n",
       "        vertical-align: top;\n",
       "    }\n",
       "\n",
       "    .dataframe thead th {\n",
       "        text-align: right;\n",
       "    }\n",
       "</style>\n",
       "<table border=\"1\" class=\"dataframe\">\n",
       "  <thead>\n",
       "    <tr style=\"text-align: right;\">\n",
       "      <th></th>\n",
       "      <th>weight</th>\n",
       "      <th>height</th>\n",
       "      <th>gender</th>\n",
       "    </tr>\n",
       "  </thead>\n",
       "  <tbody>\n",
       "    <tr>\n",
       "      <th>0</th>\n",
       "      <td>70.0</td>\n",
       "      <td>170</td>\n",
       "      <td>f</td>\n",
       "    </tr>\n",
       "    <tr>\n",
       "      <th>3</th>\n",
       "      <td>45.9</td>\n",
       "      <td>143</td>\n",
       "      <td>f</td>\n",
       "    </tr>\n",
       "    <tr>\n",
       "      <th>4</th>\n",
       "      <td>51.2</td>\n",
       "      <td>154</td>\n",
       "      <td>f</td>\n",
       "    </tr>\n",
       "  </tbody>\n",
       "</table>\n",
       "</div>"
      ],
      "text/plain": [
       "   weight  height gender\n",
       "0    70.0     170      f\n",
       "3    45.9     143      f\n",
       "4    51.2     154      f"
      ]
     },
     "execution_count": 43,
     "metadata": {},
     "output_type": "execute_result"
    }
   ],
   "source": [
    "df[df.gender == 'f']"
   ]
  },
  {
   "cell_type": "code",
   "execution_count": null,
   "id": "30a33016",
   "metadata": {},
   "outputs": [],
   "source": []
  }
 ],
 "metadata": {
  "kernelspec": {
   "display_name": "Python 3 (ipykernel)",
   "language": "python",
   "name": "python3"
  },
  "language_info": {
   "codemirror_mode": {
    "name": "ipython",
    "version": 3
   },
   "file_extension": ".py",
   "mimetype": "text/x-python",
   "name": "python",
   "nbconvert_exporter": "python",
   "pygments_lexer": "ipython3",
   "version": "3.9.17"
  },
  "toc": {
   "base_numbering": 1,
   "nav_menu": {},
   "number_sections": true,
   "sideBar": true,
   "skip_h1_title": false,
   "title_cell": "Table of Contents",
   "title_sidebar": "Contents",
   "toc_cell": false,
   "toc_position": {},
   "toc_section_display": true,
   "toc_window_display": true
  },
  "varInspector": {
   "cols": {
    "lenName": 16,
    "lenType": 16,
    "lenVar": 40
   },
   "kernels_config": {
    "python": {
     "delete_cmd_postfix": "",
     "delete_cmd_prefix": "del ",
     "library": "var_list.py",
     "varRefreshCmd": "print(var_dic_list())"
    },
    "r": {
     "delete_cmd_postfix": ") ",
     "delete_cmd_prefix": "rm(",
     "library": "var_list.r",
     "varRefreshCmd": "cat(var_dic_list()) "
    }
   },
   "types_to_exclude": [
    "module",
    "function",
    "builtin_function_or_method",
    "instance",
    "_Feature"
   ],
   "window_display": false
  }
 },
 "nbformat": 4,
 "nbformat_minor": 5
}
